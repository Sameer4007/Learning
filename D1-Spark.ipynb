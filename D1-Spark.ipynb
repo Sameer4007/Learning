{
 "cells": [
  {
   "cell_type": "markdown",
   "metadata": {
    "application/vnd.databricks.v1+cell": {
     "cellMetadata": {
      "byteLimit": 2048000,
      "rowLimit": 10000
     },
     "inputWidgets": {},
     "nuid": "96816ed7-b08a-4ca3-abb9-f99880c3535d",
     "showTitle": false,
     "title": ""
    }
   },
   "source": [
    "\n",
    "## Overview\n",
    "\n",
    "This notebook will show you how to create and query a table or DataFrame that you uploaded to DBFS. [DBFS](https://docs.databricks.com/user-guide/dbfs-databricks-file-system.html) is a Databricks File System that allows you to store data for querying inside of Databricks. This notebook assumes that you have a file already inside of DBFS that you would like to read from.\n",
    "\n",
    "This notebook is written in **Python** so the default cell type is Python. However, you can use different languages by using the `%LANGUAGE` syntax. Python, Scala, SQL, and R are all supported."
   ]
  },
  {
   "cell_type": "code",
   "execution_count": 0,
   "metadata": {
    "application/vnd.databricks.v1+cell": {
     "cellMetadata": {
      "byteLimit": 2048000,
      "rowLimit": 10000
     },
     "inputWidgets": {},
     "nuid": "6482be4c-f067-47c9-b0ac-35c938b94601",
     "showTitle": false,
     "title": ""
    }
   },
   "outputs": [
    {
     "output_type": "display_data",
     "data": {
      "text/html": [
       "<style scoped>\n",
       "  .table-result-container {\n",
       "    max-height: 300px;\n",
       "    overflow: auto;\n",
       "  }\n",
       "  table, th, td {\n",
       "    border: 1px solid black;\n",
       "    border-collapse: collapse;\n",
       "  }\n",
       "  th, td {\n",
       "    padding: 5px;\n",
       "  }\n",
       "  th {\n",
       "    text-align: left;\n",
       "  }\n",
       "</style><div class='table-result-container'><table class='table-result'><thead style='background-color: white'><tr><th>DEST_COUNTRY_NAME</th><th>ORIGIN_COUNTRY_NAME</th><th>count</th></tr></thead><tbody><tr><td>United States</td><td>Romania</td><td>1</td></tr><tr><td>United States</td><td>Ireland</td><td>264</td></tr><tr><td>United States</td><td>India</td><td>69</td></tr><tr><td>Egypt</td><td>United States</td><td>24</td></tr><tr><td>Equatorial Guinea</td><td>United States</td><td>1</td></tr><tr><td>United States</td><td>Singapore</td><td>25</td></tr><tr><td>United States</td><td>Grenada</td><td>54</td></tr><tr><td>Costa Rica</td><td>United States</td><td>477</td></tr><tr><td>Senegal</td><td>United States</td><td>29</td></tr><tr><td>United States</td><td>Marshall Islands</td><td>44</td></tr><tr><td>Guyana</td><td>United States</td><td>17</td></tr><tr><td>United States</td><td>Sint Maarten</td><td>53</td></tr><tr><td>Malta</td><td>United States</td><td>1</td></tr><tr><td>Bolivia</td><td>United States</td><td>46</td></tr><tr><td>Anguilla</td><td>United States</td><td>21</td></tr><tr><td>Turks and Caicos Islands</td><td>United States</td><td>136</td></tr><tr><td>United States</td><td>Afghanistan</td><td>2</td></tr><tr><td>Saint Vincent and the Grenadines</td><td>United States</td><td>1</td></tr><tr><td>Italy</td><td>United States</td><td>390</td></tr><tr><td>United States</td><td>Russia</td><td>156</td></tr><tr><td>United States</td><td>Federated States of Micronesia</td><td>48</td></tr><tr><td>Pakistan</td><td>United States</td><td>9</td></tr><tr><td>United States</td><td>Netherlands</td><td>570</td></tr><tr><td>Iceland</td><td>United States</td><td>118</td></tr><tr><td>Marshall Islands</td><td>United States</td><td>77</td></tr><tr><td>Luxembourg</td><td>United States</td><td>91</td></tr><tr><td>Honduras</td><td>United States</td><td>391</td></tr><tr><td>The Bahamas</td><td>United States</td><td>903</td></tr><tr><td>El Salvador</td><td>United States</td><td>519</td></tr><tr><td>United States</td><td>Senegal</td><td>46</td></tr><tr><td>Samoa</td><td>United States</td><td>28</td></tr><tr><td>United States</td><td>Angola</td><td>18</td></tr><tr><td>Kazakhstan</td><td>United States</td><td>3</td></tr><tr><td>Switzerland</td><td>United States</td><td>315</td></tr><tr><td>United States</td><td>Anguilla</td><td>20</td></tr><tr><td>Sint Maarten</td><td>United States</td><td>61</td></tr><tr><td>Hong Kong</td><td>United States</td><td>252</td></tr><tr><td>Trinidad and Tobago</td><td>United States</td><td>187</td></tr><tr><td>Latvia</td><td>United States</td><td>12</td></tr><tr><td>United States</td><td>Ecuador</td><td>345</td></tr><tr><td>Slovakia</td><td>United States</td><td>1</td></tr><tr><td>Suriname</td><td>United States</td><td>12</td></tr><tr><td>Mexico</td><td>United States</td><td>6200</td></tr><tr><td>United States</td><td>Cyprus</td><td>1</td></tr><tr><td>Ecuador</td><td>United States</td><td>272</td></tr><tr><td>United States</td><td>Bosnia and Herzegovina</td><td>1</td></tr><tr><td>United States</td><td>Portugal</td><td>104</td></tr><tr><td>United States</td><td>Costa Rica</td><td>501</td></tr><tr><td>United States</td><td>Guatemala</td><td>333</td></tr><tr><td>United States</td><td>Suriname</td><td>13</td></tr><tr><td>Colombia</td><td>United States</td><td>785</td></tr><tr><td>United States</td><td>Cape Verde</td><td>18</td></tr><tr><td>United States</td><td>Jamaica</td><td>757</td></tr><tr><td>United States</td><td>Malaysia</td><td>3</td></tr><tr><td>Norway</td><td>United States</td><td>29</td></tr><tr><td>United States</td><td>Morocco</td><td>16</td></tr><tr><td>Thailand</td><td>United States</td><td>16</td></tr><tr><td>Venezuela</td><td>United States</td><td>377</td></tr><tr><td>United States</td><td>Palau</td><td>30</td></tr><tr><td>United States</td><td>Samoa</td><td>28</td></tr><tr><td>United States</td><td>Algeria</td><td>1</td></tr><tr><td>United States</td><td>Venezuela</td><td>341</td></tr><tr><td>Panama</td><td>United States</td><td>355</td></tr><tr><td>United States</td><td>Finland</td><td>20</td></tr><tr><td>United States</td><td>Chile</td><td>176</td></tr><tr><td>Morocco</td><td>United States</td><td>16</td></tr><tr><td>United States</td><td>Greece</td><td>61</td></tr><tr><td>Antigua and Barbuda</td><td>United States</td><td>123</td></tr><tr><td>Azerbaijan</td><td>United States</td><td>1</td></tr><tr><td>United States</td><td>The Bahamas</td><td>959</td></tr><tr><td>New Zealand</td><td>United States</td><td>86</td></tr><tr><td>Liberia</td><td>United States</td><td>1</td></tr><tr><td>United States</td><td>Hong Kong</td><td>293</td></tr><tr><td>Hungary</td><td>United States</td><td>14</td></tr><tr><td>United States</td><td>China</td><td>505</td></tr><tr><td>United States</td><td>Vietnam</td><td>1</td></tr><tr><td>Sweden</td><td>United States</td><td>65</td></tr><tr><td>United States</td><td>Kuwait</td><td>25</td></tr><tr><td>United States</td><td>Dominican Republic</td><td>1150</td></tr><tr><td>United States</td><td>Egypt</td><td>25</td></tr><tr><td>Israel</td><td>United States</td><td>117</td></tr><tr><td>United States</td><td>United States</td><td>348113</td></tr><tr><td>United States</td><td>Luxembourg</td><td>90</td></tr><tr><td>Ethiopia</td><td>United States</td><td>12</td></tr><tr><td>United States</td><td>Poland</td><td>61</td></tr><tr><td>Martinique</td><td>United States</td><td>23</td></tr><tr><td>Saint Barthelemy</td><td>United States</td><td>28</td></tr><tr><td>United States</td><td>Saint Barthelemy</td><td>29</td></tr><tr><td>United States</td><td>Turkey</td><td>87</td></tr><tr><td>Barbados</td><td>United States</td><td>130</td></tr><tr><td>United States</td><td>Estonia</td><td>1</td></tr><tr><td>United States</td><td>Azerbaijan</td><td>1</td></tr><tr><td>Germany</td><td>United States</td><td>1392</td></tr><tr><td>Kyrgyzstan</td><td>United States</td><td>2</td></tr><tr><td>United States</td><td>South Korea</td><td>621</td></tr><tr><td>United States</td><td>El Salvador</td><td>464</td></tr><tr><td>Ireland</td><td>United States</td><td>231</td></tr><tr><td>United States</td><td>Hungary</td><td>15</td></tr><tr><td>United States</td><td>Serbia</td><td>1</td></tr><tr><td>Malaysia</td><td>United States</td><td>1</td></tr><tr><td>United States</td><td>Panama</td><td>363</td></tr><tr><td>United States</td><td>Ethiopia</td><td>12</td></tr><tr><td>United States</td><td>Aruba</td><td>349</td></tr><tr><td>United States</td><td>Thailand</td><td>13</td></tr><tr><td>United States</td><td>Netherlands Antilles</td><td>289</td></tr><tr><td>United States</td><td>Turks and Caicos Islands</td><td>147</td></tr><tr><td>Cyprus</td><td>United States</td><td>2</td></tr><tr><td>United States</td><td>Pakistan</td><td>15</td></tr><tr><td>United States</td><td>Honduras</td><td>393</td></tr><tr><td>Qatar</td><td>United States</td><td>41</td></tr><tr><td>Fiji</td><td>United States</td><td>53</td></tr><tr><td>Saint Kitts and Nevis</td><td>United States</td><td>113</td></tr><tr><td>Taiwan</td><td>United States</td><td>275</td></tr><tr><td>Haiti</td><td>United States</td><td>238</td></tr><tr><td>Kuwait</td><td>United States</td><td>26</td></tr><tr><td>Canada</td><td>United States</td><td>8271</td></tr><tr><td>Federated States of Micronesia</td><td>United States</td><td>46</td></tr><tr><td>United States</td><td>Liberia</td><td>1</td></tr><tr><td>Jamaica</td><td>United States</td><td>733</td></tr><tr><td>United States</td><td>Malta</td><td>2</td></tr><tr><td>Dominican Republic</td><td>United States</td><td>1109</td></tr><tr><td>Japan</td><td>United States</td><td>1383</td></tr><tr><td>United States</td><td>Saint Vincent and the Grenadines</td><td>16</td></tr><tr><td>United States</td><td>Guadeloupe</td><td>33</td></tr><tr><td>Finland</td><td>United States</td><td>24</td></tr><tr><td>United States</td><td>Ukraine</td><td>17</td></tr><tr><td>United States</td><td>France</td><td>776</td></tr><tr><td>United States</td><td>Norway</td><td>36</td></tr><tr><td>Aruba</td><td>United States</td><td>359</td></tr><tr><td>French Guiana</td><td>United States</td><td>4</td></tr><tr><td>United States</td><td>Kiribati</td><td>18</td></tr><tr><td>India</td><td>United States</td><td>66</td></tr><tr><td>British Virgin Islands</td><td>United States</td><td>49</td></tr><tr><td>United States</td><td>Germany</td><td>1406</td></tr><tr><td>Brazil</td><td>United States</td><td>995</td></tr><tr><td>United States</td><td>New Zealand</td><td>71</td></tr><tr><td>French Polynesia</td><td>United States</td><td>38</td></tr><tr><td>United Arab Emirates</td><td>United States</td><td>165</td></tr><tr><td>Singapore</td><td>United States</td><td>25</td></tr><tr><td>United States</td><td>Mexico</td><td>6220</td></tr><tr><td>Netherlands</td><td>United States</td><td>586</td></tr><tr><td>United States</td><td>Sweden</td><td>73</td></tr><tr><td>United States</td><td>Gabon</td><td>1</td></tr><tr><td>United States</td><td>Martinique</td><td>20</td></tr><tr><td>United States</td><td>United Arab Emirates</td><td>156</td></tr><tr><td>United States</td><td>Bulgaria</td><td>2</td></tr><tr><td>China</td><td>United States</td><td>448</td></tr><tr><td>Denmark</td><td>United States</td><td>98</td></tr><tr><td>United States</td><td>Philippines</td><td>116</td></tr><tr><td>United States</td><td>Nicaragua</td><td>181</td></tr><tr><td>United States</td><td>Belgium</td><td>355</td></tr><tr><td>Peru</td><td>United States</td><td>212</td></tr><tr><td>Argentina</td><td>United States</td><td>184</td></tr><tr><td>Cayman Islands</td><td>United States</td><td>247</td></tr><tr><td>South Africa</td><td>United States</td><td>25</td></tr><tr><td>United States</td><td>Iceland</td><td>129</td></tr><tr><td>United States</td><td>Argentina</td><td>159</td></tr><tr><td>Spain</td><td>United States</td><td>422</td></tr><tr><td>Netherlands Antilles</td><td>United States</td><td>286</td></tr><tr><td>Bermuda</td><td>United States</td><td>183</td></tr><tr><td>United States</td><td>Austria</td><td>34</td></tr><tr><td>United States</td><td>Nigeria</td><td>18</td></tr><tr><td>United States</td><td>Bonaire, Sint Eustatius, and Saba</td><td>16</td></tr><tr><td>Kiribati</td><td>United States</td><td>17</td></tr><tr><td>Saudi Arabia</td><td>United States</td><td>42</td></tr><tr><td>Czech Republic</td><td>United States</td><td>21</td></tr><tr><td>Belgium</td><td>United States</td><td>408</td></tr><tr><td>United States</td><td>Israel</td><td>122</td></tr><tr><td>United States</td><td>Bahrain</td><td>1</td></tr><tr><td>United States</td><td>Saint Lucia</td><td>121</td></tr><tr><td>Afghanistan</td><td>United States</td><td>11</td></tr><tr><td>United States</td><td>British Virgin Islands</td><td>47</td></tr><tr><td>Curacao</td><td>United States</td><td>20</td></tr><tr><td>Georgia</td><td>United States</td><td>2</td></tr><tr><td>United States</td><td>Guyana</td><td>20</td></tr><tr><td>United States</td><td>Denmark</td><td>107</td></tr><tr><td>Philippines</td><td>United States</td><td>132</td></tr><tr><td>Grenada</td><td>United States</td><td>65</td></tr><tr><td>Cape Verde</td><td>United States</td><td>18</td></tr><tr><td>Ukraine</td><td>United States</td><td>19</td></tr><tr><td>United States</td><td>Papua New Guinea</td><td>1</td></tr><tr><td>United States</td><td>Saudi Arabia</td><td>54</td></tr><tr><td>Russia</td><td>United States</td><td>152</td></tr><tr><td>Guatemala</td><td>United States</td><td>386</td></tr><tr><td>Saint Lucia</td><td>United States</td><td>116</td></tr><tr><td>Paraguay</td><td>United States</td><td>90</td></tr><tr><td>United States</td><td>Curacao</td><td>14</td></tr><tr><td>United States</td><td>Taiwan</td><td>252</td></tr><tr><td>United States</td><td>South Africa</td><td>15</td></tr><tr><td>Turkey</td><td>United States</td><td>75</td></tr><tr><td>United Kingdom</td><td>United States</td><td>1629</td></tr><tr><td>United States</td><td>Greenland</td><td>2</td></tr><tr><td>United States</td><td>Spain</td><td>442</td></tr><tr><td>Cuba</td><td>United States</td><td>243</td></tr><tr><td>United States</td><td>Italy</td><td>433</td></tr><tr><td>United States</td><td>Switzerland</td><td>334</td></tr><tr><td>Dominica</td><td>United States</td><td>28</td></tr><tr><td>United States</td><td>Japan</td><td>1307</td></tr><tr><td>Portugal</td><td>United States</td><td>102</td></tr><tr><td>United States</td><td>Brazil</td><td>578</td></tr><tr><td>Bahrain</td><td>United States</td><td>30</td></tr><tr><td>United States</td><td>Peru</td><td>284</td></tr><tr><td>Vietnam</td><td>United States</td><td>1</td></tr><tr><td>United States</td><td>United Kingdom</td><td>1503</td></tr><tr><td>United States</td><td>Belize</td><td>118</td></tr><tr><td>Belize</td><td>United States</td><td>121</td></tr><tr><td>United States</td><td>Ghana</td><td>28</td></tr><tr><td>United States</td><td>Indonesia</td><td>1</td></tr><tr><td>United States</td><td>Fiji</td><td>51</td></tr><tr><td>United States</td><td>Canada</td><td>8305</td></tr><tr><td>United States</td><td>French Polynesia</td><td>38</td></tr><tr><td>United States</td><td>Antigua and Barbuda</td><td>121</td></tr><tr><td>United States</td><td>Burkina Faso</td><td>1</td></tr><tr><td>Nicaragua</td><td>United States</td><td>178</td></tr><tr><td>United States</td><td>Latvia</td><td>13</td></tr><tr><td>United States</td><td>Dominica</td><td>32</td></tr><tr><td>United States</td><td>Czech Republic</td><td>22</td></tr><tr><td>United States</td><td>Australia</td><td>216</td></tr><tr><td>Austria</td><td>United States</td><td>36</td></tr><tr><td>United States</td><td>Cook Islands</td><td>12</td></tr><tr><td>Jordan</td><td>United States</td><td>50</td></tr><tr><td>Palau</td><td>United States</td><td>31</td></tr><tr><td>Uganda</td><td>United States</td><td>2</td></tr><tr><td>United States</td><td>Cameroon</td><td>1</td></tr><tr><td>South Korea</td><td>United States</td><td>683</td></tr><tr><td>Angola</td><td>United States</td><td>14</td></tr><tr><td>Ghana</td><td>United States</td><td>27</td></tr><tr><td>Guadeloupe</td><td>United States</td><td>40</td></tr><tr><td>France</td><td>United States</td><td>774</td></tr><tr><td>United States</td><td>Kyrgyzstan</td><td>12</td></tr><tr><td>Poland</td><td>United States</td><td>62</td></tr><tr><td>Nigeria</td><td>United States</td><td>16</td></tr><tr><td>United States</td><td>Uruguay</td><td>24</td></tr><tr><td>Greenland</td><td>United States</td><td>2</td></tr><tr><td>Chile</td><td>United States</td><td>166</td></tr><tr><td>United States</td><td>Bermuda</td><td>180</td></tr><tr><td>United States</td><td>Cuba</td><td>235</td></tr><tr><td>United States</td><td>Colombia</td><td>832</td></tr><tr><td>United States</td><td>Qatar</td><td>40</td></tr><tr><td>United States</td><td>Barbados</td><td>119</td></tr><tr><td>Australia</td><td>United States</td><td>290</td></tr><tr><td>United States</td><td>Jordan</td><td>51</td></tr><tr><td>United States</td><td>Cayman Islands</td><td>251</td></tr><tr><td>United States</td><td>Trinidad and Tobago</td><td>200</td></tr><tr><td>United States</td><td>Bolivia</td><td>39</td></tr><tr><td>United States</td><td>Slovakia</td><td>1</td></tr><tr><td>Uruguay</td><td>United States</td><td>54</td></tr><tr><td>Cook Islands</td><td>United States</td><td>13</td></tr><tr><td>United States</td><td>Saint Kitts and Nevis</td><td>127</td></tr><tr><td>Bulgaria</td><td>United States</td><td>1</td></tr><tr><td>United States</td><td>French Guiana</td><td>1</td></tr><tr><td>United States</td><td>Haiti</td><td>226</td></tr><tr><td>United States</td><td>Uganda</td><td>1</td></tr><tr><td>Bonaire, Sint Eustatius, and Saba</td><td>United States</td><td>16</td></tr><tr><td>Greece</td><td>United States</td><td>50</td></tr></tbody></table></div>"
      ]
     },
     "metadata": {
      "application/vnd.databricks.v1+output": {
       "addedWidgets": {},
       "aggData": [],
       "aggError": "",
       "aggOverflow": false,
       "aggSchema": [],
       "aggSeriesLimitReached": false,
       "aggType": "",
       "arguments": {},
       "columnCustomDisplayInfos": {},
       "data": [
        [
         "United States",
         "Romania",
         "1"
        ],
        [
         "United States",
         "Ireland",
         "264"
        ],
        [
         "United States",
         "India",
         "69"
        ],
        [
         "Egypt",
         "United States",
         "24"
        ],
        [
         "Equatorial Guinea",
         "United States",
         "1"
        ],
        [
         "United States",
         "Singapore",
         "25"
        ],
        [
         "United States",
         "Grenada",
         "54"
        ],
        [
         "Costa Rica",
         "United States",
         "477"
        ],
        [
         "Senegal",
         "United States",
         "29"
        ],
        [
         "United States",
         "Marshall Islands",
         "44"
        ],
        [
         "Guyana",
         "United States",
         "17"
        ],
        [
         "United States",
         "Sint Maarten",
         "53"
        ],
        [
         "Malta",
         "United States",
         "1"
        ],
        [
         "Bolivia",
         "United States",
         "46"
        ],
        [
         "Anguilla",
         "United States",
         "21"
        ],
        [
         "Turks and Caicos Islands",
         "United States",
         "136"
        ],
        [
         "United States",
         "Afghanistan",
         "2"
        ],
        [
         "Saint Vincent and the Grenadines",
         "United States",
         "1"
        ],
        [
         "Italy",
         "United States",
         "390"
        ],
        [
         "United States",
         "Russia",
         "156"
        ],
        [
         "United States",
         "Federated States of Micronesia",
         "48"
        ],
        [
         "Pakistan",
         "United States",
         "9"
        ],
        [
         "United States",
         "Netherlands",
         "570"
        ],
        [
         "Iceland",
         "United States",
         "118"
        ],
        [
         "Marshall Islands",
         "United States",
         "77"
        ],
        [
         "Luxembourg",
         "United States",
         "91"
        ],
        [
         "Honduras",
         "United States",
         "391"
        ],
        [
         "The Bahamas",
         "United States",
         "903"
        ],
        [
         "El Salvador",
         "United States",
         "519"
        ],
        [
         "United States",
         "Senegal",
         "46"
        ],
        [
         "Samoa",
         "United States",
         "28"
        ],
        [
         "United States",
         "Angola",
         "18"
        ],
        [
         "Kazakhstan",
         "United States",
         "3"
        ],
        [
         "Switzerland",
         "United States",
         "315"
        ],
        [
         "United States",
         "Anguilla",
         "20"
        ],
        [
         "Sint Maarten",
         "United States",
         "61"
        ],
        [
         "Hong Kong",
         "United States",
         "252"
        ],
        [
         "Trinidad and Tobago",
         "United States",
         "187"
        ],
        [
         "Latvia",
         "United States",
         "12"
        ],
        [
         "United States",
         "Ecuador",
         "345"
        ],
        [
         "Slovakia",
         "United States",
         "1"
        ],
        [
         "Suriname",
         "United States",
         "12"
        ],
        [
         "Mexico",
         "United States",
         "6200"
        ],
        [
         "United States",
         "Cyprus",
         "1"
        ],
        [
         "Ecuador",
         "United States",
         "272"
        ],
        [
         "United States",
         "Bosnia and Herzegovina",
         "1"
        ],
        [
         "United States",
         "Portugal",
         "104"
        ],
        [
         "United States",
         "Costa Rica",
         "501"
        ],
        [
         "United States",
         "Guatemala",
         "333"
        ],
        [
         "United States",
         "Suriname",
         "13"
        ],
        [
         "Colombia",
         "United States",
         "785"
        ],
        [
         "United States",
         "Cape Verde",
         "18"
        ],
        [
         "United States",
         "Jamaica",
         "757"
        ],
        [
         "United States",
         "Malaysia",
         "3"
        ],
        [
         "Norway",
         "United States",
         "29"
        ],
        [
         "United States",
         "Morocco",
         "16"
        ],
        [
         "Thailand",
         "United States",
         "16"
        ],
        [
         "Venezuela",
         "United States",
         "377"
        ],
        [
         "United States",
         "Palau",
         "30"
        ],
        [
         "United States",
         "Samoa",
         "28"
        ],
        [
         "United States",
         "Algeria",
         "1"
        ],
        [
         "United States",
         "Venezuela",
         "341"
        ],
        [
         "Panama",
         "United States",
         "355"
        ],
        [
         "United States",
         "Finland",
         "20"
        ],
        [
         "United States",
         "Chile",
         "176"
        ],
        [
         "Morocco",
         "United States",
         "16"
        ],
        [
         "United States",
         "Greece",
         "61"
        ],
        [
         "Antigua and Barbuda",
         "United States",
         "123"
        ],
        [
         "Azerbaijan",
         "United States",
         "1"
        ],
        [
         "United States",
         "The Bahamas",
         "959"
        ],
        [
         "New Zealand",
         "United States",
         "86"
        ],
        [
         "Liberia",
         "United States",
         "1"
        ],
        [
         "United States",
         "Hong Kong",
         "293"
        ],
        [
         "Hungary",
         "United States",
         "14"
        ],
        [
         "United States",
         "China",
         "505"
        ],
        [
         "United States",
         "Vietnam",
         "1"
        ],
        [
         "Sweden",
         "United States",
         "65"
        ],
        [
         "United States",
         "Kuwait",
         "25"
        ],
        [
         "United States",
         "Dominican Republic",
         "1150"
        ],
        [
         "United States",
         "Egypt",
         "25"
        ],
        [
         "Israel",
         "United States",
         "117"
        ],
        [
         "United States",
         "United States",
         "348113"
        ],
        [
         "United States",
         "Luxembourg",
         "90"
        ],
        [
         "Ethiopia",
         "United States",
         "12"
        ],
        [
         "United States",
         "Poland",
         "61"
        ],
        [
         "Martinique",
         "United States",
         "23"
        ],
        [
         "Saint Barthelemy",
         "United States",
         "28"
        ],
        [
         "United States",
         "Saint Barthelemy",
         "29"
        ],
        [
         "United States",
         "Turkey",
         "87"
        ],
        [
         "Barbados",
         "United States",
         "130"
        ],
        [
         "United States",
         "Estonia",
         "1"
        ],
        [
         "United States",
         "Azerbaijan",
         "1"
        ],
        [
         "Germany",
         "United States",
         "1392"
        ],
        [
         "Kyrgyzstan",
         "United States",
         "2"
        ],
        [
         "United States",
         "South Korea",
         "621"
        ],
        [
         "United States",
         "El Salvador",
         "464"
        ],
        [
         "Ireland",
         "United States",
         "231"
        ],
        [
         "United States",
         "Hungary",
         "15"
        ],
        [
         "United States",
         "Serbia",
         "1"
        ],
        [
         "Malaysia",
         "United States",
         "1"
        ],
        [
         "United States",
         "Panama",
         "363"
        ],
        [
         "United States",
         "Ethiopia",
         "12"
        ],
        [
         "United States",
         "Aruba",
         "349"
        ],
        [
         "United States",
         "Thailand",
         "13"
        ],
        [
         "United States",
         "Netherlands Antilles",
         "289"
        ],
        [
         "United States",
         "Turks and Caicos Islands",
         "147"
        ],
        [
         "Cyprus",
         "United States",
         "2"
        ],
        [
         "United States",
         "Pakistan",
         "15"
        ],
        [
         "United States",
         "Honduras",
         "393"
        ],
        [
         "Qatar",
         "United States",
         "41"
        ],
        [
         "Fiji",
         "United States",
         "53"
        ],
        [
         "Saint Kitts and Nevis",
         "United States",
         "113"
        ],
        [
         "Taiwan",
         "United States",
         "275"
        ],
        [
         "Haiti",
         "United States",
         "238"
        ],
        [
         "Kuwait",
         "United States",
         "26"
        ],
        [
         "Canada",
         "United States",
         "8271"
        ],
        [
         "Federated States of Micronesia",
         "United States",
         "46"
        ],
        [
         "United States",
         "Liberia",
         "1"
        ],
        [
         "Jamaica",
         "United States",
         "733"
        ],
        [
         "United States",
         "Malta",
         "2"
        ],
        [
         "Dominican Republic",
         "United States",
         "1109"
        ],
        [
         "Japan",
         "United States",
         "1383"
        ],
        [
         "United States",
         "Saint Vincent and the Grenadines",
         "16"
        ],
        [
         "United States",
         "Guadeloupe",
         "33"
        ],
        [
         "Finland",
         "United States",
         "24"
        ],
        [
         "United States",
         "Ukraine",
         "17"
        ],
        [
         "United States",
         "France",
         "776"
        ],
        [
         "United States",
         "Norway",
         "36"
        ],
        [
         "Aruba",
         "United States",
         "359"
        ],
        [
         "French Guiana",
         "United States",
         "4"
        ],
        [
         "United States",
         "Kiribati",
         "18"
        ],
        [
         "India",
         "United States",
         "66"
        ],
        [
         "British Virgin Islands",
         "United States",
         "49"
        ],
        [
         "United States",
         "Germany",
         "1406"
        ],
        [
         "Brazil",
         "United States",
         "995"
        ],
        [
         "United States",
         "New Zealand",
         "71"
        ],
        [
         "French Polynesia",
         "United States",
         "38"
        ],
        [
         "United Arab Emirates",
         "United States",
         "165"
        ],
        [
         "Singapore",
         "United States",
         "25"
        ],
        [
         "United States",
         "Mexico",
         "6220"
        ],
        [
         "Netherlands",
         "United States",
         "586"
        ],
        [
         "United States",
         "Sweden",
         "73"
        ],
        [
         "United States",
         "Gabon",
         "1"
        ],
        [
         "United States",
         "Martinique",
         "20"
        ],
        [
         "United States",
         "United Arab Emirates",
         "156"
        ],
        [
         "United States",
         "Bulgaria",
         "2"
        ],
        [
         "China",
         "United States",
         "448"
        ],
        [
         "Denmark",
         "United States",
         "98"
        ],
        [
         "United States",
         "Philippines",
         "116"
        ],
        [
         "United States",
         "Nicaragua",
         "181"
        ],
        [
         "United States",
         "Belgium",
         "355"
        ],
        [
         "Peru",
         "United States",
         "212"
        ],
        [
         "Argentina",
         "United States",
         "184"
        ],
        [
         "Cayman Islands",
         "United States",
         "247"
        ],
        [
         "South Africa",
         "United States",
         "25"
        ],
        [
         "United States",
         "Iceland",
         "129"
        ],
        [
         "United States",
         "Argentina",
         "159"
        ],
        [
         "Spain",
         "United States",
         "422"
        ],
        [
         "Netherlands Antilles",
         "United States",
         "286"
        ],
        [
         "Bermuda",
         "United States",
         "183"
        ],
        [
         "United States",
         "Austria",
         "34"
        ],
        [
         "United States",
         "Nigeria",
         "18"
        ],
        [
         "United States",
         "Bonaire, Sint Eustatius, and Saba",
         "16"
        ],
        [
         "Kiribati",
         "United States",
         "17"
        ],
        [
         "Saudi Arabia",
         "United States",
         "42"
        ],
        [
         "Czech Republic",
         "United States",
         "21"
        ],
        [
         "Belgium",
         "United States",
         "408"
        ],
        [
         "United States",
         "Israel",
         "122"
        ],
        [
         "United States",
         "Bahrain",
         "1"
        ],
        [
         "United States",
         "Saint Lucia",
         "121"
        ],
        [
         "Afghanistan",
         "United States",
         "11"
        ],
        [
         "United States",
         "British Virgin Islands",
         "47"
        ],
        [
         "Curacao",
         "United States",
         "20"
        ],
        [
         "Georgia",
         "United States",
         "2"
        ],
        [
         "United States",
         "Guyana",
         "20"
        ],
        [
         "United States",
         "Denmark",
         "107"
        ],
        [
         "Philippines",
         "United States",
         "132"
        ],
        [
         "Grenada",
         "United States",
         "65"
        ],
        [
         "Cape Verde",
         "United States",
         "18"
        ],
        [
         "Ukraine",
         "United States",
         "19"
        ],
        [
         "United States",
         "Papua New Guinea",
         "1"
        ],
        [
         "United States",
         "Saudi Arabia",
         "54"
        ],
        [
         "Russia",
         "United States",
         "152"
        ],
        [
         "Guatemala",
         "United States",
         "386"
        ],
        [
         "Saint Lucia",
         "United States",
         "116"
        ],
        [
         "Paraguay",
         "United States",
         "90"
        ],
        [
         "United States",
         "Curacao",
         "14"
        ],
        [
         "United States",
         "Taiwan",
         "252"
        ],
        [
         "United States",
         "South Africa",
         "15"
        ],
        [
         "Turkey",
         "United States",
         "75"
        ],
        [
         "United Kingdom",
         "United States",
         "1629"
        ],
        [
         "United States",
         "Greenland",
         "2"
        ],
        [
         "United States",
         "Spain",
         "442"
        ],
        [
         "Cuba",
         "United States",
         "243"
        ],
        [
         "United States",
         "Italy",
         "433"
        ],
        [
         "United States",
         "Switzerland",
         "334"
        ],
        [
         "Dominica",
         "United States",
         "28"
        ],
        [
         "United States",
         "Japan",
         "1307"
        ],
        [
         "Portugal",
         "United States",
         "102"
        ],
        [
         "United States",
         "Brazil",
         "578"
        ],
        [
         "Bahrain",
         "United States",
         "30"
        ],
        [
         "United States",
         "Peru",
         "284"
        ],
        [
         "Vietnam",
         "United States",
         "1"
        ],
        [
         "United States",
         "United Kingdom",
         "1503"
        ],
        [
         "United States",
         "Belize",
         "118"
        ],
        [
         "Belize",
         "United States",
         "121"
        ],
        [
         "United States",
         "Ghana",
         "28"
        ],
        [
         "United States",
         "Indonesia",
         "1"
        ],
        [
         "United States",
         "Fiji",
         "51"
        ],
        [
         "United States",
         "Canada",
         "8305"
        ],
        [
         "United States",
         "French Polynesia",
         "38"
        ],
        [
         "United States",
         "Antigua and Barbuda",
         "121"
        ],
        [
         "United States",
         "Burkina Faso",
         "1"
        ],
        [
         "Nicaragua",
         "United States",
         "178"
        ],
        [
         "United States",
         "Latvia",
         "13"
        ],
        [
         "United States",
         "Dominica",
         "32"
        ],
        [
         "United States",
         "Czech Republic",
         "22"
        ],
        [
         "United States",
         "Australia",
         "216"
        ],
        [
         "Austria",
         "United States",
         "36"
        ],
        [
         "United States",
         "Cook Islands",
         "12"
        ],
        [
         "Jordan",
         "United States",
         "50"
        ],
        [
         "Palau",
         "United States",
         "31"
        ],
        [
         "Uganda",
         "United States",
         "2"
        ],
        [
         "United States",
         "Cameroon",
         "1"
        ],
        [
         "South Korea",
         "United States",
         "683"
        ],
        [
         "Angola",
         "United States",
         "14"
        ],
        [
         "Ghana",
         "United States",
         "27"
        ],
        [
         "Guadeloupe",
         "United States",
         "40"
        ],
        [
         "France",
         "United States",
         "774"
        ],
        [
         "United States",
         "Kyrgyzstan",
         "12"
        ],
        [
         "Poland",
         "United States",
         "62"
        ],
        [
         "Nigeria",
         "United States",
         "16"
        ],
        [
         "United States",
         "Uruguay",
         "24"
        ],
        [
         "Greenland",
         "United States",
         "2"
        ],
        [
         "Chile",
         "United States",
         "166"
        ],
        [
         "United States",
         "Bermuda",
         "180"
        ],
        [
         "United States",
         "Cuba",
         "235"
        ],
        [
         "United States",
         "Colombia",
         "832"
        ],
        [
         "United States",
         "Qatar",
         "40"
        ],
        [
         "United States",
         "Barbados",
         "119"
        ],
        [
         "Australia",
         "United States",
         "290"
        ],
        [
         "United States",
         "Jordan",
         "51"
        ],
        [
         "United States",
         "Cayman Islands",
         "251"
        ],
        [
         "United States",
         "Trinidad and Tobago",
         "200"
        ],
        [
         "United States",
         "Bolivia",
         "39"
        ],
        [
         "United States",
         "Slovakia",
         "1"
        ],
        [
         "Uruguay",
         "United States",
         "54"
        ],
        [
         "Cook Islands",
         "United States",
         "13"
        ],
        [
         "United States",
         "Saint Kitts and Nevis",
         "127"
        ],
        [
         "Bulgaria",
         "United States",
         "1"
        ],
        [
         "United States",
         "French Guiana",
         "1"
        ],
        [
         "United States",
         "Haiti",
         "226"
        ],
        [
         "United States",
         "Uganda",
         "1"
        ],
        [
         "Bonaire, Sint Eustatius, and Saba",
         "United States",
         "16"
        ],
        [
         "Greece",
         "United States",
         "50"
        ]
       ],
       "datasetInfos": [],
       "dbfsResultPath": null,
       "isJsonSchema": true,
       "metadata": {},
       "overflow": false,
       "plotOptions": {
        "customPlotOptions": {},
        "displayType": "table",
        "pivotAggregation": null,
        "pivotColumns": null,
        "xColumns": null,
        "yColumns": null
       },
       "removedWidgets": [],
       "schema": [
        {
         "metadata": "{}",
         "name": "DEST_COUNTRY_NAME",
         "type": "\"string\""
        },
        {
         "metadata": "{}",
         "name": "ORIGIN_COUNTRY_NAME",
         "type": "\"string\""
        },
        {
         "metadata": "{}",
         "name": "count",
         "type": "\"string\""
        }
       ],
       "type": "table"
      }
     },
     "output_type": "display_data"
    }
   ],
   "source": [
    "# File location and type\n",
    "file_location = \"/FileStore/tables/flight_data.csv\"\n",
    "file_type = \"csv\"\n",
    "\n",
    "# CSV options\n",
    "infer_schema = \"false\"\n",
    "first_row_is_header = \"true\"\n",
    "delimiter = \",\"\n",
    "\n",
    "# The applied options are for CSV files. For other file types, these will be ignored.\n",
    "df = spark.read.format(file_type) \\\n",
    "  .option(\"inferSchema\", infer_schema) \\\n",
    "  .option(\"header\", first_row_is_header) \\\n",
    "  .option(\"sep\", delimiter) \\\n",
    "  .load(file_location)\n",
    "\n",
    "display(df)"
   ]
  },
  {
   "cell_type": "code",
   "execution_count": 0,
   "metadata": {
    "application/vnd.databricks.v1+cell": {
     "cellMetadata": {
      "byteLimit": 2048000,
      "rowLimit": 10000
     },
     "inputWidgets": {},
     "nuid": "cf7f0c3d-834c-4ad5-91c9-29da5fe269ea",
     "showTitle": false,
     "title": ""
    }
   },
   "outputs": [
    {
     "output_type": "stream",
     "name": "stdout",
     "output_type": "stream",
     "text": [
      "+-----------------+-------------------+-----+\n|              _c0|                _c1|  _c2|\n+-----------------+-------------------+-----+\n|DEST_COUNTRY_NAME|ORIGIN_COUNTRY_NAME|count|\n|    United States|            Romania|    1|\n+-----------------+-------------------+-----+\nonly showing top 2 rows\n\n"
     ]
    }
   ],
   "source": [
    "df1 = spark.read.format(\"csv\")\\\n",
    "    .option(\"inferSchema\", \"false\") \\\n",
    "  .option(\"header\", \"false\") \\\n",
    "  .option(\"mode\", \"FAILFAST\") \\\n",
    "  .load(\"/FileStore/tables/flight_data.csv\")\n",
    "\n",
    "df1.show(2)"
   ]
  },
  {
   "cell_type": "code",
   "execution_count": 0,
   "metadata": {
    "application/vnd.databricks.v1+cell": {
     "cellMetadata": {
      "byteLimit": 2048000,
      "rowLimit": 10000
     },
     "inputWidgets": {},
     "nuid": "bd82bb99-1479-4d5c-be10-8c36df0f1d44",
     "showTitle": false,
     "title": ""
    }
   },
   "outputs": [],
   "source": [
    "# Create a view or table\n",
    "\n",
    "temp_table_name = \"flight_data_csv\"\n",
    "\n",
    "df.createOrReplaceTempView(temp_table_name)"
   ]
  },
  {
   "cell_type": "code",
   "execution_count": 0,
   "metadata": {
    "application/vnd.databricks.v1+cell": {
     "cellMetadata": {
      "byteLimit": 2048000,
      "implicitDf": true,
      "rowLimit": 10000
     },
     "inputWidgets": {},
     "nuid": "b5f66379-6f7f-42ec-8e82-d0e0926a1721",
     "showTitle": false,
     "title": ""
    }
   },
   "outputs": [
    {
     "output_type": "display_data",
     "data": {
      "text/html": [
       "<style scoped>\n",
       "  .table-result-container {\n",
       "    max-height: 300px;\n",
       "    overflow: auto;\n",
       "  }\n",
       "  table, th, td {\n",
       "    border: 1px solid black;\n",
       "    border-collapse: collapse;\n",
       "  }\n",
       "  th, td {\n",
       "    padding: 5px;\n",
       "  }\n",
       "  th {\n",
       "    text-align: left;\n",
       "  }\n",
       "</style><div class='table-result-container'><table class='table-result'><thead style='background-color: white'><tr><th>DEST_COUNTRY_NAME</th><th>ORIGIN_COUNTRY_NAME</th><th>count</th></tr></thead><tbody><tr><td>United States</td><td>Romania</td><td>1</td></tr><tr><td>United States</td><td>Ireland</td><td>264</td></tr><tr><td>United States</td><td>India</td><td>69</td></tr><tr><td>Egypt</td><td>United States</td><td>24</td></tr><tr><td>Equatorial Guinea</td><td>United States</td><td>1</td></tr><tr><td>United States</td><td>Singapore</td><td>25</td></tr><tr><td>United States</td><td>Grenada</td><td>54</td></tr><tr><td>Costa Rica</td><td>United States</td><td>477</td></tr><tr><td>Senegal</td><td>United States</td><td>29</td></tr><tr><td>United States</td><td>Marshall Islands</td><td>44</td></tr><tr><td>Guyana</td><td>United States</td><td>17</td></tr><tr><td>United States</td><td>Sint Maarten</td><td>53</td></tr><tr><td>Malta</td><td>United States</td><td>1</td></tr><tr><td>Bolivia</td><td>United States</td><td>46</td></tr><tr><td>Anguilla</td><td>United States</td><td>21</td></tr><tr><td>Turks and Caicos Islands</td><td>United States</td><td>136</td></tr><tr><td>United States</td><td>Afghanistan</td><td>2</td></tr><tr><td>Saint Vincent and the Grenadines</td><td>United States</td><td>1</td></tr><tr><td>Italy</td><td>United States</td><td>390</td></tr><tr><td>United States</td><td>Russia</td><td>156</td></tr><tr><td>United States</td><td>Federated States of Micronesia</td><td>48</td></tr><tr><td>Pakistan</td><td>United States</td><td>9</td></tr><tr><td>United States</td><td>Netherlands</td><td>570</td></tr><tr><td>Iceland</td><td>United States</td><td>118</td></tr><tr><td>Marshall Islands</td><td>United States</td><td>77</td></tr><tr><td>Luxembourg</td><td>United States</td><td>91</td></tr><tr><td>Honduras</td><td>United States</td><td>391</td></tr><tr><td>The Bahamas</td><td>United States</td><td>903</td></tr><tr><td>El Salvador</td><td>United States</td><td>519</td></tr><tr><td>United States</td><td>Senegal</td><td>46</td></tr><tr><td>Samoa</td><td>United States</td><td>28</td></tr><tr><td>United States</td><td>Angola</td><td>18</td></tr><tr><td>Kazakhstan</td><td>United States</td><td>3</td></tr><tr><td>Switzerland</td><td>United States</td><td>315</td></tr><tr><td>United States</td><td>Anguilla</td><td>20</td></tr><tr><td>Sint Maarten</td><td>United States</td><td>61</td></tr><tr><td>Hong Kong</td><td>United States</td><td>252</td></tr><tr><td>Trinidad and Tobago</td><td>United States</td><td>187</td></tr><tr><td>Latvia</td><td>United States</td><td>12</td></tr><tr><td>United States</td><td>Ecuador</td><td>345</td></tr><tr><td>Slovakia</td><td>United States</td><td>1</td></tr><tr><td>Suriname</td><td>United States</td><td>12</td></tr><tr><td>Mexico</td><td>United States</td><td>6200</td></tr><tr><td>United States</td><td>Cyprus</td><td>1</td></tr><tr><td>Ecuador</td><td>United States</td><td>272</td></tr><tr><td>United States</td><td>Bosnia and Herzegovina</td><td>1</td></tr><tr><td>United States</td><td>Portugal</td><td>104</td></tr><tr><td>United States</td><td>Costa Rica</td><td>501</td></tr><tr><td>United States</td><td>Guatemala</td><td>333</td></tr><tr><td>United States</td><td>Suriname</td><td>13</td></tr><tr><td>Colombia</td><td>United States</td><td>785</td></tr><tr><td>United States</td><td>Cape Verde</td><td>18</td></tr><tr><td>United States</td><td>Jamaica</td><td>757</td></tr><tr><td>United States</td><td>Malaysia</td><td>3</td></tr><tr><td>Norway</td><td>United States</td><td>29</td></tr><tr><td>United States</td><td>Morocco</td><td>16</td></tr><tr><td>Thailand</td><td>United States</td><td>16</td></tr><tr><td>Venezuela</td><td>United States</td><td>377</td></tr><tr><td>United States</td><td>Palau</td><td>30</td></tr><tr><td>United States</td><td>Samoa</td><td>28</td></tr><tr><td>United States</td><td>Algeria</td><td>1</td></tr><tr><td>United States</td><td>Venezuela</td><td>341</td></tr><tr><td>Panama</td><td>United States</td><td>355</td></tr><tr><td>United States</td><td>Finland</td><td>20</td></tr><tr><td>United States</td><td>Chile</td><td>176</td></tr><tr><td>Morocco</td><td>United States</td><td>16</td></tr><tr><td>United States</td><td>Greece</td><td>61</td></tr><tr><td>Antigua and Barbuda</td><td>United States</td><td>123</td></tr><tr><td>Azerbaijan</td><td>United States</td><td>1</td></tr><tr><td>United States</td><td>The Bahamas</td><td>959</td></tr><tr><td>New Zealand</td><td>United States</td><td>86</td></tr><tr><td>Liberia</td><td>United States</td><td>1</td></tr><tr><td>United States</td><td>Hong Kong</td><td>293</td></tr><tr><td>Hungary</td><td>United States</td><td>14</td></tr><tr><td>United States</td><td>China</td><td>505</td></tr><tr><td>United States</td><td>Vietnam</td><td>1</td></tr><tr><td>Sweden</td><td>United States</td><td>65</td></tr><tr><td>United States</td><td>Kuwait</td><td>25</td></tr><tr><td>United States</td><td>Dominican Republic</td><td>1150</td></tr><tr><td>United States</td><td>Egypt</td><td>25</td></tr><tr><td>Israel</td><td>United States</td><td>117</td></tr><tr><td>United States</td><td>United States</td><td>348113</td></tr><tr><td>United States</td><td>Luxembourg</td><td>90</td></tr><tr><td>Ethiopia</td><td>United States</td><td>12</td></tr><tr><td>United States</td><td>Poland</td><td>61</td></tr><tr><td>Martinique</td><td>United States</td><td>23</td></tr><tr><td>Saint Barthelemy</td><td>United States</td><td>28</td></tr><tr><td>United States</td><td>Saint Barthelemy</td><td>29</td></tr><tr><td>United States</td><td>Turkey</td><td>87</td></tr><tr><td>Barbados</td><td>United States</td><td>130</td></tr><tr><td>United States</td><td>Estonia</td><td>1</td></tr><tr><td>United States</td><td>Azerbaijan</td><td>1</td></tr><tr><td>Germany</td><td>United States</td><td>1392</td></tr><tr><td>Kyrgyzstan</td><td>United States</td><td>2</td></tr><tr><td>United States</td><td>South Korea</td><td>621</td></tr><tr><td>United States</td><td>El Salvador</td><td>464</td></tr><tr><td>Ireland</td><td>United States</td><td>231</td></tr><tr><td>United States</td><td>Hungary</td><td>15</td></tr><tr><td>United States</td><td>Serbia</td><td>1</td></tr><tr><td>Malaysia</td><td>United States</td><td>1</td></tr><tr><td>United States</td><td>Panama</td><td>363</td></tr><tr><td>United States</td><td>Ethiopia</td><td>12</td></tr><tr><td>United States</td><td>Aruba</td><td>349</td></tr><tr><td>United States</td><td>Thailand</td><td>13</td></tr><tr><td>United States</td><td>Netherlands Antilles</td><td>289</td></tr><tr><td>United States</td><td>Turks and Caicos Islands</td><td>147</td></tr><tr><td>Cyprus</td><td>United States</td><td>2</td></tr><tr><td>United States</td><td>Pakistan</td><td>15</td></tr><tr><td>United States</td><td>Honduras</td><td>393</td></tr><tr><td>Qatar</td><td>United States</td><td>41</td></tr><tr><td>Fiji</td><td>United States</td><td>53</td></tr><tr><td>Saint Kitts and Nevis</td><td>United States</td><td>113</td></tr><tr><td>Taiwan</td><td>United States</td><td>275</td></tr><tr><td>Haiti</td><td>United States</td><td>238</td></tr><tr><td>Kuwait</td><td>United States</td><td>26</td></tr><tr><td>Canada</td><td>United States</td><td>8271</td></tr><tr><td>Federated States of Micronesia</td><td>United States</td><td>46</td></tr><tr><td>United States</td><td>Liberia</td><td>1</td></tr><tr><td>Jamaica</td><td>United States</td><td>733</td></tr><tr><td>United States</td><td>Malta</td><td>2</td></tr><tr><td>Dominican Republic</td><td>United States</td><td>1109</td></tr><tr><td>Japan</td><td>United States</td><td>1383</td></tr><tr><td>United States</td><td>Saint Vincent and the Grenadines</td><td>16</td></tr><tr><td>United States</td><td>Guadeloupe</td><td>33</td></tr><tr><td>Finland</td><td>United States</td><td>24</td></tr><tr><td>United States</td><td>Ukraine</td><td>17</td></tr><tr><td>United States</td><td>France</td><td>776</td></tr><tr><td>United States</td><td>Norway</td><td>36</td></tr><tr><td>Aruba</td><td>United States</td><td>359</td></tr><tr><td>French Guiana</td><td>United States</td><td>4</td></tr><tr><td>United States</td><td>Kiribati</td><td>18</td></tr><tr><td>India</td><td>United States</td><td>66</td></tr><tr><td>British Virgin Islands</td><td>United States</td><td>49</td></tr><tr><td>United States</td><td>Germany</td><td>1406</td></tr><tr><td>Brazil</td><td>United States</td><td>995</td></tr><tr><td>United States</td><td>New Zealand</td><td>71</td></tr><tr><td>French Polynesia</td><td>United States</td><td>38</td></tr><tr><td>United Arab Emirates</td><td>United States</td><td>165</td></tr><tr><td>Singapore</td><td>United States</td><td>25</td></tr><tr><td>United States</td><td>Mexico</td><td>6220</td></tr><tr><td>Netherlands</td><td>United States</td><td>586</td></tr><tr><td>United States</td><td>Sweden</td><td>73</td></tr><tr><td>United States</td><td>Gabon</td><td>1</td></tr><tr><td>United States</td><td>Martinique</td><td>20</td></tr><tr><td>United States</td><td>United Arab Emirates</td><td>156</td></tr><tr><td>United States</td><td>Bulgaria</td><td>2</td></tr><tr><td>China</td><td>United States</td><td>448</td></tr><tr><td>Denmark</td><td>United States</td><td>98</td></tr><tr><td>United States</td><td>Philippines</td><td>116</td></tr><tr><td>United States</td><td>Nicaragua</td><td>181</td></tr><tr><td>United States</td><td>Belgium</td><td>355</td></tr><tr><td>Peru</td><td>United States</td><td>212</td></tr><tr><td>Argentina</td><td>United States</td><td>184</td></tr><tr><td>Cayman Islands</td><td>United States</td><td>247</td></tr><tr><td>South Africa</td><td>United States</td><td>25</td></tr><tr><td>United States</td><td>Iceland</td><td>129</td></tr><tr><td>United States</td><td>Argentina</td><td>159</td></tr><tr><td>Spain</td><td>United States</td><td>422</td></tr><tr><td>Netherlands Antilles</td><td>United States</td><td>286</td></tr><tr><td>Bermuda</td><td>United States</td><td>183</td></tr><tr><td>United States</td><td>Austria</td><td>34</td></tr><tr><td>United States</td><td>Nigeria</td><td>18</td></tr><tr><td>United States</td><td>Bonaire, Sint Eustatius, and Saba</td><td>16</td></tr><tr><td>Kiribati</td><td>United States</td><td>17</td></tr><tr><td>Saudi Arabia</td><td>United States</td><td>42</td></tr><tr><td>Czech Republic</td><td>United States</td><td>21</td></tr><tr><td>Belgium</td><td>United States</td><td>408</td></tr><tr><td>United States</td><td>Israel</td><td>122</td></tr><tr><td>United States</td><td>Bahrain</td><td>1</td></tr><tr><td>United States</td><td>Saint Lucia</td><td>121</td></tr><tr><td>Afghanistan</td><td>United States</td><td>11</td></tr><tr><td>United States</td><td>British Virgin Islands</td><td>47</td></tr><tr><td>Curacao</td><td>United States</td><td>20</td></tr><tr><td>Georgia</td><td>United States</td><td>2</td></tr><tr><td>United States</td><td>Guyana</td><td>20</td></tr><tr><td>United States</td><td>Denmark</td><td>107</td></tr><tr><td>Philippines</td><td>United States</td><td>132</td></tr><tr><td>Grenada</td><td>United States</td><td>65</td></tr><tr><td>Cape Verde</td><td>United States</td><td>18</td></tr><tr><td>Ukraine</td><td>United States</td><td>19</td></tr><tr><td>United States</td><td>Papua New Guinea</td><td>1</td></tr><tr><td>United States</td><td>Saudi Arabia</td><td>54</td></tr><tr><td>Russia</td><td>United States</td><td>152</td></tr><tr><td>Guatemala</td><td>United States</td><td>386</td></tr><tr><td>Saint Lucia</td><td>United States</td><td>116</td></tr><tr><td>Paraguay</td><td>United States</td><td>90</td></tr><tr><td>United States</td><td>Curacao</td><td>14</td></tr><tr><td>United States</td><td>Taiwan</td><td>252</td></tr><tr><td>United States</td><td>South Africa</td><td>15</td></tr><tr><td>Turkey</td><td>United States</td><td>75</td></tr><tr><td>United Kingdom</td><td>United States</td><td>1629</td></tr><tr><td>United States</td><td>Greenland</td><td>2</td></tr><tr><td>United States</td><td>Spain</td><td>442</td></tr><tr><td>Cuba</td><td>United States</td><td>243</td></tr><tr><td>United States</td><td>Italy</td><td>433</td></tr><tr><td>United States</td><td>Switzerland</td><td>334</td></tr><tr><td>Dominica</td><td>United States</td><td>28</td></tr><tr><td>United States</td><td>Japan</td><td>1307</td></tr><tr><td>Portugal</td><td>United States</td><td>102</td></tr><tr><td>United States</td><td>Brazil</td><td>578</td></tr><tr><td>Bahrain</td><td>United States</td><td>30</td></tr><tr><td>United States</td><td>Peru</td><td>284</td></tr><tr><td>Vietnam</td><td>United States</td><td>1</td></tr><tr><td>United States</td><td>United Kingdom</td><td>1503</td></tr><tr><td>United States</td><td>Belize</td><td>118</td></tr><tr><td>Belize</td><td>United States</td><td>121</td></tr><tr><td>United States</td><td>Ghana</td><td>28</td></tr><tr><td>United States</td><td>Indonesia</td><td>1</td></tr><tr><td>United States</td><td>Fiji</td><td>51</td></tr><tr><td>United States</td><td>Canada</td><td>8305</td></tr><tr><td>United States</td><td>French Polynesia</td><td>38</td></tr><tr><td>United States</td><td>Antigua and Barbuda</td><td>121</td></tr><tr><td>United States</td><td>Burkina Faso</td><td>1</td></tr><tr><td>Nicaragua</td><td>United States</td><td>178</td></tr><tr><td>United States</td><td>Latvia</td><td>13</td></tr><tr><td>United States</td><td>Dominica</td><td>32</td></tr><tr><td>United States</td><td>Czech Republic</td><td>22</td></tr><tr><td>United States</td><td>Australia</td><td>216</td></tr><tr><td>Austria</td><td>United States</td><td>36</td></tr><tr><td>United States</td><td>Cook Islands</td><td>12</td></tr><tr><td>Jordan</td><td>United States</td><td>50</td></tr><tr><td>Palau</td><td>United States</td><td>31</td></tr><tr><td>Uganda</td><td>United States</td><td>2</td></tr><tr><td>United States</td><td>Cameroon</td><td>1</td></tr><tr><td>South Korea</td><td>United States</td><td>683</td></tr><tr><td>Angola</td><td>United States</td><td>14</td></tr><tr><td>Ghana</td><td>United States</td><td>27</td></tr><tr><td>Guadeloupe</td><td>United States</td><td>40</td></tr><tr><td>France</td><td>United States</td><td>774</td></tr><tr><td>United States</td><td>Kyrgyzstan</td><td>12</td></tr><tr><td>Poland</td><td>United States</td><td>62</td></tr><tr><td>Nigeria</td><td>United States</td><td>16</td></tr><tr><td>United States</td><td>Uruguay</td><td>24</td></tr><tr><td>Greenland</td><td>United States</td><td>2</td></tr><tr><td>Chile</td><td>United States</td><td>166</td></tr><tr><td>United States</td><td>Bermuda</td><td>180</td></tr><tr><td>United States</td><td>Cuba</td><td>235</td></tr><tr><td>United States</td><td>Colombia</td><td>832</td></tr><tr><td>United States</td><td>Qatar</td><td>40</td></tr><tr><td>United States</td><td>Barbados</td><td>119</td></tr><tr><td>Australia</td><td>United States</td><td>290</td></tr><tr><td>United States</td><td>Jordan</td><td>51</td></tr><tr><td>United States</td><td>Cayman Islands</td><td>251</td></tr><tr><td>United States</td><td>Trinidad and Tobago</td><td>200</td></tr><tr><td>United States</td><td>Bolivia</td><td>39</td></tr><tr><td>United States</td><td>Slovakia</td><td>1</td></tr><tr><td>Uruguay</td><td>United States</td><td>54</td></tr><tr><td>Cook Islands</td><td>United States</td><td>13</td></tr><tr><td>United States</td><td>Saint Kitts and Nevis</td><td>127</td></tr><tr><td>Bulgaria</td><td>United States</td><td>1</td></tr><tr><td>United States</td><td>French Guiana</td><td>1</td></tr><tr><td>United States</td><td>Haiti</td><td>226</td></tr><tr><td>United States</td><td>Uganda</td><td>1</td></tr><tr><td>Bonaire, Sint Eustatius, and Saba</td><td>United States</td><td>16</td></tr><tr><td>Greece</td><td>United States</td><td>50</td></tr></tbody></table></div>"
      ]
     },
     "metadata": {
      "application/vnd.databricks.v1+output": {
       "addedWidgets": {},
       "aggData": [],
       "aggError": "",
       "aggOverflow": false,
       "aggSchema": [],
       "aggSeriesLimitReached": false,
       "aggType": "",
       "arguments": {},
       "columnCustomDisplayInfos": {},
       "data": [
        [
         "United States",
         "Romania",
         "1"
        ],
        [
         "United States",
         "Ireland",
         "264"
        ],
        [
         "United States",
         "India",
         "69"
        ],
        [
         "Egypt",
         "United States",
         "24"
        ],
        [
         "Equatorial Guinea",
         "United States",
         "1"
        ],
        [
         "United States",
         "Singapore",
         "25"
        ],
        [
         "United States",
         "Grenada",
         "54"
        ],
        [
         "Costa Rica",
         "United States",
         "477"
        ],
        [
         "Senegal",
         "United States",
         "29"
        ],
        [
         "United States",
         "Marshall Islands",
         "44"
        ],
        [
         "Guyana",
         "United States",
         "17"
        ],
        [
         "United States",
         "Sint Maarten",
         "53"
        ],
        [
         "Malta",
         "United States",
         "1"
        ],
        [
         "Bolivia",
         "United States",
         "46"
        ],
        [
         "Anguilla",
         "United States",
         "21"
        ],
        [
         "Turks and Caicos Islands",
         "United States",
         "136"
        ],
        [
         "United States",
         "Afghanistan",
         "2"
        ],
        [
         "Saint Vincent and the Grenadines",
         "United States",
         "1"
        ],
        [
         "Italy",
         "United States",
         "390"
        ],
        [
         "United States",
         "Russia",
         "156"
        ],
        [
         "United States",
         "Federated States of Micronesia",
         "48"
        ],
        [
         "Pakistan",
         "United States",
         "9"
        ],
        [
         "United States",
         "Netherlands",
         "570"
        ],
        [
         "Iceland",
         "United States",
         "118"
        ],
        [
         "Marshall Islands",
         "United States",
         "77"
        ],
        [
         "Luxembourg",
         "United States",
         "91"
        ],
        [
         "Honduras",
         "United States",
         "391"
        ],
        [
         "The Bahamas",
         "United States",
         "903"
        ],
        [
         "El Salvador",
         "United States",
         "519"
        ],
        [
         "United States",
         "Senegal",
         "46"
        ],
        [
         "Samoa",
         "United States",
         "28"
        ],
        [
         "United States",
         "Angola",
         "18"
        ],
        [
         "Kazakhstan",
         "United States",
         "3"
        ],
        [
         "Switzerland",
         "United States",
         "315"
        ],
        [
         "United States",
         "Anguilla",
         "20"
        ],
        [
         "Sint Maarten",
         "United States",
         "61"
        ],
        [
         "Hong Kong",
         "United States",
         "252"
        ],
        [
         "Trinidad and Tobago",
         "United States",
         "187"
        ],
        [
         "Latvia",
         "United States",
         "12"
        ],
        [
         "United States",
         "Ecuador",
         "345"
        ],
        [
         "Slovakia",
         "United States",
         "1"
        ],
        [
         "Suriname",
         "United States",
         "12"
        ],
        [
         "Mexico",
         "United States",
         "6200"
        ],
        [
         "United States",
         "Cyprus",
         "1"
        ],
        [
         "Ecuador",
         "United States",
         "272"
        ],
        [
         "United States",
         "Bosnia and Herzegovina",
         "1"
        ],
        [
         "United States",
         "Portugal",
         "104"
        ],
        [
         "United States",
         "Costa Rica",
         "501"
        ],
        [
         "United States",
         "Guatemala",
         "333"
        ],
        [
         "United States",
         "Suriname",
         "13"
        ],
        [
         "Colombia",
         "United States",
         "785"
        ],
        [
         "United States",
         "Cape Verde",
         "18"
        ],
        [
         "United States",
         "Jamaica",
         "757"
        ],
        [
         "United States",
         "Malaysia",
         "3"
        ],
        [
         "Norway",
         "United States",
         "29"
        ],
        [
         "United States",
         "Morocco",
         "16"
        ],
        [
         "Thailand",
         "United States",
         "16"
        ],
        [
         "Venezuela",
         "United States",
         "377"
        ],
        [
         "United States",
         "Palau",
         "30"
        ],
        [
         "United States",
         "Samoa",
         "28"
        ],
        [
         "United States",
         "Algeria",
         "1"
        ],
        [
         "United States",
         "Venezuela",
         "341"
        ],
        [
         "Panama",
         "United States",
         "355"
        ],
        [
         "United States",
         "Finland",
         "20"
        ],
        [
         "United States",
         "Chile",
         "176"
        ],
        [
         "Morocco",
         "United States",
         "16"
        ],
        [
         "United States",
         "Greece",
         "61"
        ],
        [
         "Antigua and Barbuda",
         "United States",
         "123"
        ],
        [
         "Azerbaijan",
         "United States",
         "1"
        ],
        [
         "United States",
         "The Bahamas",
         "959"
        ],
        [
         "New Zealand",
         "United States",
         "86"
        ],
        [
         "Liberia",
         "United States",
         "1"
        ],
        [
         "United States",
         "Hong Kong",
         "293"
        ],
        [
         "Hungary",
         "United States",
         "14"
        ],
        [
         "United States",
         "China",
         "505"
        ],
        [
         "United States",
         "Vietnam",
         "1"
        ],
        [
         "Sweden",
         "United States",
         "65"
        ],
        [
         "United States",
         "Kuwait",
         "25"
        ],
        [
         "United States",
         "Dominican Republic",
         "1150"
        ],
        [
         "United States",
         "Egypt",
         "25"
        ],
        [
         "Israel",
         "United States",
         "117"
        ],
        [
         "United States",
         "United States",
         "348113"
        ],
        [
         "United States",
         "Luxembourg",
         "90"
        ],
        [
         "Ethiopia",
         "United States",
         "12"
        ],
        [
         "United States",
         "Poland",
         "61"
        ],
        [
         "Martinique",
         "United States",
         "23"
        ],
        [
         "Saint Barthelemy",
         "United States",
         "28"
        ],
        [
         "United States",
         "Saint Barthelemy",
         "29"
        ],
        [
         "United States",
         "Turkey",
         "87"
        ],
        [
         "Barbados",
         "United States",
         "130"
        ],
        [
         "United States",
         "Estonia",
         "1"
        ],
        [
         "United States",
         "Azerbaijan",
         "1"
        ],
        [
         "Germany",
         "United States",
         "1392"
        ],
        [
         "Kyrgyzstan",
         "United States",
         "2"
        ],
        [
         "United States",
         "South Korea",
         "621"
        ],
        [
         "United States",
         "El Salvador",
         "464"
        ],
        [
         "Ireland",
         "United States",
         "231"
        ],
        [
         "United States",
         "Hungary",
         "15"
        ],
        [
         "United States",
         "Serbia",
         "1"
        ],
        [
         "Malaysia",
         "United States",
         "1"
        ],
        [
         "United States",
         "Panama",
         "363"
        ],
        [
         "United States",
         "Ethiopia",
         "12"
        ],
        [
         "United States",
         "Aruba",
         "349"
        ],
        [
         "United States",
         "Thailand",
         "13"
        ],
        [
         "United States",
         "Netherlands Antilles",
         "289"
        ],
        [
         "United States",
         "Turks and Caicos Islands",
         "147"
        ],
        [
         "Cyprus",
         "United States",
         "2"
        ],
        [
         "United States",
         "Pakistan",
         "15"
        ],
        [
         "United States",
         "Honduras",
         "393"
        ],
        [
         "Qatar",
         "United States",
         "41"
        ],
        [
         "Fiji",
         "United States",
         "53"
        ],
        [
         "Saint Kitts and Nevis",
         "United States",
         "113"
        ],
        [
         "Taiwan",
         "United States",
         "275"
        ],
        [
         "Haiti",
         "United States",
         "238"
        ],
        [
         "Kuwait",
         "United States",
         "26"
        ],
        [
         "Canada",
         "United States",
         "8271"
        ],
        [
         "Federated States of Micronesia",
         "United States",
         "46"
        ],
        [
         "United States",
         "Liberia",
         "1"
        ],
        [
         "Jamaica",
         "United States",
         "733"
        ],
        [
         "United States",
         "Malta",
         "2"
        ],
        [
         "Dominican Republic",
         "United States",
         "1109"
        ],
        [
         "Japan",
         "United States",
         "1383"
        ],
        [
         "United States",
         "Saint Vincent and the Grenadines",
         "16"
        ],
        [
         "United States",
         "Guadeloupe",
         "33"
        ],
        [
         "Finland",
         "United States",
         "24"
        ],
        [
         "United States",
         "Ukraine",
         "17"
        ],
        [
         "United States",
         "France",
         "776"
        ],
        [
         "United States",
         "Norway",
         "36"
        ],
        [
         "Aruba",
         "United States",
         "359"
        ],
        [
         "French Guiana",
         "United States",
         "4"
        ],
        [
         "United States",
         "Kiribati",
         "18"
        ],
        [
         "India",
         "United States",
         "66"
        ],
        [
         "British Virgin Islands",
         "United States",
         "49"
        ],
        [
         "United States",
         "Germany",
         "1406"
        ],
        [
         "Brazil",
         "United States",
         "995"
        ],
        [
         "United States",
         "New Zealand",
         "71"
        ],
        [
         "French Polynesia",
         "United States",
         "38"
        ],
        [
         "United Arab Emirates",
         "United States",
         "165"
        ],
        [
         "Singapore",
         "United States",
         "25"
        ],
        [
         "United States",
         "Mexico",
         "6220"
        ],
        [
         "Netherlands",
         "United States",
         "586"
        ],
        [
         "United States",
         "Sweden",
         "73"
        ],
        [
         "United States",
         "Gabon",
         "1"
        ],
        [
         "United States",
         "Martinique",
         "20"
        ],
        [
         "United States",
         "United Arab Emirates",
         "156"
        ],
        [
         "United States",
         "Bulgaria",
         "2"
        ],
        [
         "China",
         "United States",
         "448"
        ],
        [
         "Denmark",
         "United States",
         "98"
        ],
        [
         "United States",
         "Philippines",
         "116"
        ],
        [
         "United States",
         "Nicaragua",
         "181"
        ],
        [
         "United States",
         "Belgium",
         "355"
        ],
        [
         "Peru",
         "United States",
         "212"
        ],
        [
         "Argentina",
         "United States",
         "184"
        ],
        [
         "Cayman Islands",
         "United States",
         "247"
        ],
        [
         "South Africa",
         "United States",
         "25"
        ],
        [
         "United States",
         "Iceland",
         "129"
        ],
        [
         "United States",
         "Argentina",
         "159"
        ],
        [
         "Spain",
         "United States",
         "422"
        ],
        [
         "Netherlands Antilles",
         "United States",
         "286"
        ],
        [
         "Bermuda",
         "United States",
         "183"
        ],
        [
         "United States",
         "Austria",
         "34"
        ],
        [
         "United States",
         "Nigeria",
         "18"
        ],
        [
         "United States",
         "Bonaire, Sint Eustatius, and Saba",
         "16"
        ],
        [
         "Kiribati",
         "United States",
         "17"
        ],
        [
         "Saudi Arabia",
         "United States",
         "42"
        ],
        [
         "Czech Republic",
         "United States",
         "21"
        ],
        [
         "Belgium",
         "United States",
         "408"
        ],
        [
         "United States",
         "Israel",
         "122"
        ],
        [
         "United States",
         "Bahrain",
         "1"
        ],
        [
         "United States",
         "Saint Lucia",
         "121"
        ],
        [
         "Afghanistan",
         "United States",
         "11"
        ],
        [
         "United States",
         "British Virgin Islands",
         "47"
        ],
        [
         "Curacao",
         "United States",
         "20"
        ],
        [
         "Georgia",
         "United States",
         "2"
        ],
        [
         "United States",
         "Guyana",
         "20"
        ],
        [
         "United States",
         "Denmark",
         "107"
        ],
        [
         "Philippines",
         "United States",
         "132"
        ],
        [
         "Grenada",
         "United States",
         "65"
        ],
        [
         "Cape Verde",
         "United States",
         "18"
        ],
        [
         "Ukraine",
         "United States",
         "19"
        ],
        [
         "United States",
         "Papua New Guinea",
         "1"
        ],
        [
         "United States",
         "Saudi Arabia",
         "54"
        ],
        [
         "Russia",
         "United States",
         "152"
        ],
        [
         "Guatemala",
         "United States",
         "386"
        ],
        [
         "Saint Lucia",
         "United States",
         "116"
        ],
        [
         "Paraguay",
         "United States",
         "90"
        ],
        [
         "United States",
         "Curacao",
         "14"
        ],
        [
         "United States",
         "Taiwan",
         "252"
        ],
        [
         "United States",
         "South Africa",
         "15"
        ],
        [
         "Turkey",
         "United States",
         "75"
        ],
        [
         "United Kingdom",
         "United States",
         "1629"
        ],
        [
         "United States",
         "Greenland",
         "2"
        ],
        [
         "United States",
         "Spain",
         "442"
        ],
        [
         "Cuba",
         "United States",
         "243"
        ],
        [
         "United States",
         "Italy",
         "433"
        ],
        [
         "United States",
         "Switzerland",
         "334"
        ],
        [
         "Dominica",
         "United States",
         "28"
        ],
        [
         "United States",
         "Japan",
         "1307"
        ],
        [
         "Portugal",
         "United States",
         "102"
        ],
        [
         "United States",
         "Brazil",
         "578"
        ],
        [
         "Bahrain",
         "United States",
         "30"
        ],
        [
         "United States",
         "Peru",
         "284"
        ],
        [
         "Vietnam",
         "United States",
         "1"
        ],
        [
         "United States",
         "United Kingdom",
         "1503"
        ],
        [
         "United States",
         "Belize",
         "118"
        ],
        [
         "Belize",
         "United States",
         "121"
        ],
        [
         "United States",
         "Ghana",
         "28"
        ],
        [
         "United States",
         "Indonesia",
         "1"
        ],
        [
         "United States",
         "Fiji",
         "51"
        ],
        [
         "United States",
         "Canada",
         "8305"
        ],
        [
         "United States",
         "French Polynesia",
         "38"
        ],
        [
         "United States",
         "Antigua and Barbuda",
         "121"
        ],
        [
         "United States",
         "Burkina Faso",
         "1"
        ],
        [
         "Nicaragua",
         "United States",
         "178"
        ],
        [
         "United States",
         "Latvia",
         "13"
        ],
        [
         "United States",
         "Dominica",
         "32"
        ],
        [
         "United States",
         "Czech Republic",
         "22"
        ],
        [
         "United States",
         "Australia",
         "216"
        ],
        [
         "Austria",
         "United States",
         "36"
        ],
        [
         "United States",
         "Cook Islands",
         "12"
        ],
        [
         "Jordan",
         "United States",
         "50"
        ],
        [
         "Palau",
         "United States",
         "31"
        ],
        [
         "Uganda",
         "United States",
         "2"
        ],
        [
         "United States",
         "Cameroon",
         "1"
        ],
        [
         "South Korea",
         "United States",
         "683"
        ],
        [
         "Angola",
         "United States",
         "14"
        ],
        [
         "Ghana",
         "United States",
         "27"
        ],
        [
         "Guadeloupe",
         "United States",
         "40"
        ],
        [
         "France",
         "United States",
         "774"
        ],
        [
         "United States",
         "Kyrgyzstan",
         "12"
        ],
        [
         "Poland",
         "United States",
         "62"
        ],
        [
         "Nigeria",
         "United States",
         "16"
        ],
        [
         "United States",
         "Uruguay",
         "24"
        ],
        [
         "Greenland",
         "United States",
         "2"
        ],
        [
         "Chile",
         "United States",
         "166"
        ],
        [
         "United States",
         "Bermuda",
         "180"
        ],
        [
         "United States",
         "Cuba",
         "235"
        ],
        [
         "United States",
         "Colombia",
         "832"
        ],
        [
         "United States",
         "Qatar",
         "40"
        ],
        [
         "United States",
         "Barbados",
         "119"
        ],
        [
         "Australia",
         "United States",
         "290"
        ],
        [
         "United States",
         "Jordan",
         "51"
        ],
        [
         "United States",
         "Cayman Islands",
         "251"
        ],
        [
         "United States",
         "Trinidad and Tobago",
         "200"
        ],
        [
         "United States",
         "Bolivia",
         "39"
        ],
        [
         "United States",
         "Slovakia",
         "1"
        ],
        [
         "Uruguay",
         "United States",
         "54"
        ],
        [
         "Cook Islands",
         "United States",
         "13"
        ],
        [
         "United States",
         "Saint Kitts and Nevis",
         "127"
        ],
        [
         "Bulgaria",
         "United States",
         "1"
        ],
        [
         "United States",
         "French Guiana",
         "1"
        ],
        [
         "United States",
         "Haiti",
         "226"
        ],
        [
         "United States",
         "Uganda",
         "1"
        ],
        [
         "Bonaire, Sint Eustatius, and Saba",
         "United States",
         "16"
        ],
        [
         "Greece",
         "United States",
         "50"
        ]
       ],
       "datasetInfos": [],
       "dbfsResultPath": null,
       "isJsonSchema": true,
       "metadata": {},
       "overflow": false,
       "plotOptions": {
        "customPlotOptions": {},
        "displayType": "table",
        "pivotAggregation": null,
        "pivotColumns": null,
        "xColumns": null,
        "yColumns": null
       },
       "removedWidgets": [],
       "schema": [
        {
         "metadata": "{}",
         "name": "DEST_COUNTRY_NAME",
         "type": "\"string\""
        },
        {
         "metadata": "{}",
         "name": "ORIGIN_COUNTRY_NAME",
         "type": "\"string\""
        },
        {
         "metadata": "{}",
         "name": "count",
         "type": "\"string\""
        }
       ],
       "type": "table"
      }
     },
     "output_type": "display_data"
    }
   ],
   "source": [
    "%sql\n",
    "\n",
    "/* Query the created temp table in a SQL cell */\n",
    "\n",
    "select * from `flight_data_csv`"
   ]
  },
  {
   "cell_type": "code",
   "execution_count": 0,
   "metadata": {
    "application/vnd.databricks.v1+cell": {
     "cellMetadata": {
      "byteLimit": 2048000,
      "rowLimit": 10000
     },
     "inputWidgets": {},
     "nuid": "db9631f6-bb4a-42ca-8a3c-0d48af932331",
     "showTitle": false,
     "title": ""
    }
   },
   "outputs": [],
   "source": [
    "# With this registered as a temp view, it will only be available to this particular notebook. If you'd like other users to be able to query this table, you can also create a table from the DataFrame.\n",
    "# Once saved, this table will persist across cluster restarts as well as allow various users across different notebooks to query this data.\n",
    "# To do so, choose your table name and uncomment the bottom line.\n",
    "\n",
    "permanent_table_name = \"flight_data_csv\"\n",
    "\n",
    "# df.write.format(\"parquet\").saveAsTable(permanent_table_name)"
   ]
  },
  {
   "cell_type": "code",
   "execution_count": 0,
   "metadata": {
    "application/vnd.databricks.v1+cell": {
     "cellMetadata": {
      "byteLimit": 2048000,
      "rowLimit": 10000
     },
     "inputWidgets": {},
     "nuid": "4e92ded6-ff2c-4fb9-b858-641486e1198f",
     "showTitle": false,
     "title": ""
    }
   },
   "outputs": [
    {
     "output_type": "stream",
     "name": "stdout",
     "output_type": "stream",
     "text": [
      "root\n |-- DEST_COUNTRY_NAME: string (nullable = true)\n |-- ORIGIN_COUNTRY_NAME: string (nullable = true)\n |-- count: string (nullable = true)\n\n"
     ]
    }
   ],
   "source": [
    "df.printSchema()"
   ]
  },
  {
   "cell_type": "code",
   "execution_count": 0,
   "metadata": {
    "application/vnd.databricks.v1+cell": {
     "cellMetadata": {
      "byteLimit": 2048000,
      "rowLimit": 10000
     },
     "inputWidgets": {},
     "nuid": "3e9ab242-39b4-4f35-9bd5-65b21921864f",
     "showTitle": false,
     "title": ""
    }
   },
   "outputs": [
    {
     "output_type": "display_data",
     "data": {
      "text/html": [
       "<style scoped>\n",
       "  .table-result-container {\n",
       "    max-height: 300px;\n",
       "    overflow: auto;\n",
       "  }\n",
       "  table, th, td {\n",
       "    border: 1px solid black;\n",
       "    border-collapse: collapse;\n",
       "  }\n",
       "  th, td {\n",
       "    padding: 5px;\n",
       "  }\n",
       "  th {\n",
       "    text-align: left;\n",
       "  }\n",
       "</style><div class='table-result-container'><table class='table-result'><thead style='background-color: white'><tr><th>DEST_COUNTRY_NAME</th><th>ORIGIN_COUNTRY_NAME</th><th>count</th></tr></thead><tbody><tr><td>United States</td><td>Romania</td><td>1</td></tr><tr><td>United States</td><td>Ireland</td><td>264</td></tr><tr><td>United States</td><td>India</td><td>69</td></tr><tr><td>Egypt</td><td>United States</td><td>24</td></tr><tr><td>Equatorial Guinea</td><td>United States</td><td>1</td></tr><tr><td>United States</td><td>Singapore</td><td>25</td></tr><tr><td>United States</td><td>Grenada</td><td>54</td></tr><tr><td>Costa Rica</td><td>United States</td><td>477</td></tr><tr><td>Senegal</td><td>United States</td><td>29</td></tr><tr><td>United States</td><td>Marshall Islands</td><td>44</td></tr><tr><td>Guyana</td><td>United States</td><td>17</td></tr><tr><td>United States</td><td>Sint Maarten</td><td>53</td></tr><tr><td>Malta</td><td>United States</td><td>1</td></tr><tr><td>Bolivia</td><td>United States</td><td>46</td></tr><tr><td>Anguilla</td><td>United States</td><td>21</td></tr><tr><td>Turks and Caicos Islands</td><td>United States</td><td>136</td></tr><tr><td>United States</td><td>Afghanistan</td><td>2</td></tr><tr><td>Saint Vincent and the Grenadines</td><td>United States</td><td>1</td></tr><tr><td>Italy</td><td>United States</td><td>390</td></tr><tr><td>United States</td><td>Russia</td><td>156</td></tr><tr><td>United States</td><td>Federated States of Micronesia</td><td>48</td></tr><tr><td>Pakistan</td><td>United States</td><td>9</td></tr><tr><td>United States</td><td>Netherlands</td><td>570</td></tr><tr><td>Iceland</td><td>United States</td><td>118</td></tr><tr><td>Marshall Islands</td><td>United States</td><td>77</td></tr><tr><td>Luxembourg</td><td>United States</td><td>91</td></tr><tr><td>Honduras</td><td>United States</td><td>391</td></tr><tr><td>The Bahamas</td><td>United States</td><td>903</td></tr><tr><td>El Salvador</td><td>United States</td><td>519</td></tr><tr><td>United States</td><td>Senegal</td><td>46</td></tr><tr><td>Samoa</td><td>United States</td><td>28</td></tr><tr><td>United States</td><td>Angola</td><td>18</td></tr><tr><td>Kazakhstan</td><td>United States</td><td>3</td></tr><tr><td>Switzerland</td><td>United States</td><td>315</td></tr><tr><td>United States</td><td>Anguilla</td><td>20</td></tr><tr><td>Sint Maarten</td><td>United States</td><td>61</td></tr><tr><td>Hong Kong</td><td>United States</td><td>252</td></tr><tr><td>Trinidad and Tobago</td><td>United States</td><td>187</td></tr><tr><td>Latvia</td><td>United States</td><td>12</td></tr><tr><td>United States</td><td>Ecuador</td><td>345</td></tr><tr><td>Slovakia</td><td>United States</td><td>1</td></tr><tr><td>Suriname</td><td>United States</td><td>12</td></tr><tr><td>Mexico</td><td>United States</td><td>6200</td></tr><tr><td>United States</td><td>Cyprus</td><td>1</td></tr><tr><td>Ecuador</td><td>United States</td><td>272</td></tr><tr><td>United States</td><td>Bosnia and Herzegovina</td><td>1</td></tr><tr><td>United States</td><td>Portugal</td><td>104</td></tr><tr><td>United States</td><td>Costa Rica</td><td>501</td></tr><tr><td>United States</td><td>Guatemala</td><td>333</td></tr><tr><td>United States</td><td>Suriname</td><td>13</td></tr><tr><td>Colombia</td><td>United States</td><td>785</td></tr><tr><td>United States</td><td>Cape Verde</td><td>18</td></tr><tr><td>United States</td><td>Jamaica</td><td>757</td></tr><tr><td>United States</td><td>Malaysia</td><td>3</td></tr><tr><td>Norway</td><td>United States</td><td>29</td></tr><tr><td>United States</td><td>Morocco</td><td>16</td></tr><tr><td>Thailand</td><td>United States</td><td>16</td></tr><tr><td>Venezuela</td><td>United States</td><td>377</td></tr><tr><td>United States</td><td>Palau</td><td>30</td></tr><tr><td>United States</td><td>Samoa</td><td>28</td></tr><tr><td>United States</td><td>Algeria</td><td>1</td></tr><tr><td>United States</td><td>Venezuela</td><td>341</td></tr><tr><td>Panama</td><td>United States</td><td>355</td></tr><tr><td>United States</td><td>Finland</td><td>20</td></tr><tr><td>United States</td><td>Chile</td><td>176</td></tr><tr><td>Morocco</td><td>United States</td><td>16</td></tr><tr><td>United States</td><td>Greece</td><td>61</td></tr><tr><td>Antigua and Barbuda</td><td>United States</td><td>123</td></tr><tr><td>Azerbaijan</td><td>United States</td><td>1</td></tr><tr><td>United States</td><td>The Bahamas</td><td>959</td></tr><tr><td>New Zealand</td><td>United States</td><td>86</td></tr><tr><td>Liberia</td><td>United States</td><td>1</td></tr><tr><td>United States</td><td>Hong Kong</td><td>293</td></tr><tr><td>Hungary</td><td>United States</td><td>14</td></tr><tr><td>United States</td><td>China</td><td>505</td></tr><tr><td>United States</td><td>Vietnam</td><td>1</td></tr><tr><td>Sweden</td><td>United States</td><td>65</td></tr><tr><td>United States</td><td>Kuwait</td><td>25</td></tr><tr><td>United States</td><td>Dominican Republic</td><td>1150</td></tr><tr><td>United States</td><td>Egypt</td><td>25</td></tr><tr><td>Israel</td><td>United States</td><td>117</td></tr><tr><td>United States</td><td>United States</td><td>348113</td></tr><tr><td>United States</td><td>Luxembourg</td><td>90</td></tr><tr><td>Ethiopia</td><td>United States</td><td>12</td></tr><tr><td>United States</td><td>Poland</td><td>61</td></tr><tr><td>Martinique</td><td>United States</td><td>23</td></tr><tr><td>Saint Barthelemy</td><td>United States</td><td>28</td></tr><tr><td>United States</td><td>Saint Barthelemy</td><td>29</td></tr><tr><td>United States</td><td>Turkey</td><td>87</td></tr><tr><td>Barbados</td><td>United States</td><td>130</td></tr><tr><td>United States</td><td>Estonia</td><td>1</td></tr><tr><td>United States</td><td>Azerbaijan</td><td>1</td></tr><tr><td>Germany</td><td>United States</td><td>1392</td></tr><tr><td>Kyrgyzstan</td><td>United States</td><td>2</td></tr><tr><td>United States</td><td>South Korea</td><td>621</td></tr><tr><td>United States</td><td>El Salvador</td><td>464</td></tr><tr><td>Ireland</td><td>United States</td><td>231</td></tr><tr><td>United States</td><td>Hungary</td><td>15</td></tr><tr><td>United States</td><td>Serbia</td><td>1</td></tr><tr><td>Malaysia</td><td>United States</td><td>1</td></tr><tr><td>United States</td><td>Panama</td><td>363</td></tr><tr><td>United States</td><td>Ethiopia</td><td>12</td></tr><tr><td>United States</td><td>Aruba</td><td>349</td></tr><tr><td>United States</td><td>Thailand</td><td>13</td></tr><tr><td>United States</td><td>Netherlands Antilles</td><td>289</td></tr><tr><td>United States</td><td>Turks and Caicos Islands</td><td>147</td></tr><tr><td>Cyprus</td><td>United States</td><td>2</td></tr><tr><td>United States</td><td>Pakistan</td><td>15</td></tr><tr><td>United States</td><td>Honduras</td><td>393</td></tr><tr><td>Qatar</td><td>United States</td><td>41</td></tr><tr><td>Fiji</td><td>United States</td><td>53</td></tr><tr><td>Saint Kitts and Nevis</td><td>United States</td><td>113</td></tr><tr><td>Taiwan</td><td>United States</td><td>275</td></tr><tr><td>Haiti</td><td>United States</td><td>238</td></tr><tr><td>Kuwait</td><td>United States</td><td>26</td></tr><tr><td>Canada</td><td>United States</td><td>8271</td></tr><tr><td>Federated States of Micronesia</td><td>United States</td><td>46</td></tr><tr><td>United States</td><td>Liberia</td><td>1</td></tr><tr><td>Jamaica</td><td>United States</td><td>733</td></tr><tr><td>United States</td><td>Malta</td><td>2</td></tr><tr><td>Dominican Republic</td><td>United States</td><td>1109</td></tr><tr><td>Japan</td><td>United States</td><td>1383</td></tr><tr><td>United States</td><td>Saint Vincent and the Grenadines</td><td>16</td></tr><tr><td>United States</td><td>Guadeloupe</td><td>33</td></tr><tr><td>Finland</td><td>United States</td><td>24</td></tr><tr><td>United States</td><td>Ukraine</td><td>17</td></tr><tr><td>United States</td><td>France</td><td>776</td></tr><tr><td>United States</td><td>Norway</td><td>36</td></tr><tr><td>Aruba</td><td>United States</td><td>359</td></tr><tr><td>French Guiana</td><td>United States</td><td>4</td></tr><tr><td>United States</td><td>Kiribati</td><td>18</td></tr><tr><td>India</td><td>United States</td><td>66</td></tr><tr><td>British Virgin Islands</td><td>United States</td><td>49</td></tr><tr><td>United States</td><td>Germany</td><td>1406</td></tr><tr><td>Brazil</td><td>United States</td><td>995</td></tr><tr><td>United States</td><td>New Zealand</td><td>71</td></tr><tr><td>French Polynesia</td><td>United States</td><td>38</td></tr><tr><td>United Arab Emirates</td><td>United States</td><td>165</td></tr><tr><td>Singapore</td><td>United States</td><td>25</td></tr><tr><td>United States</td><td>Mexico</td><td>6220</td></tr><tr><td>Netherlands</td><td>United States</td><td>586</td></tr><tr><td>United States</td><td>Sweden</td><td>73</td></tr><tr><td>United States</td><td>Gabon</td><td>1</td></tr><tr><td>United States</td><td>Martinique</td><td>20</td></tr><tr><td>United States</td><td>United Arab Emirates</td><td>156</td></tr><tr><td>United States</td><td>Bulgaria</td><td>2</td></tr><tr><td>China</td><td>United States</td><td>448</td></tr><tr><td>Denmark</td><td>United States</td><td>98</td></tr><tr><td>United States</td><td>Philippines</td><td>116</td></tr><tr><td>United States</td><td>Nicaragua</td><td>181</td></tr><tr><td>United States</td><td>Belgium</td><td>355</td></tr><tr><td>Peru</td><td>United States</td><td>212</td></tr><tr><td>Argentina</td><td>United States</td><td>184</td></tr><tr><td>Cayman Islands</td><td>United States</td><td>247</td></tr><tr><td>South Africa</td><td>United States</td><td>25</td></tr><tr><td>United States</td><td>Iceland</td><td>129</td></tr><tr><td>United States</td><td>Argentina</td><td>159</td></tr><tr><td>Spain</td><td>United States</td><td>422</td></tr><tr><td>Netherlands Antilles</td><td>United States</td><td>286</td></tr><tr><td>Bermuda</td><td>United States</td><td>183</td></tr><tr><td>United States</td><td>Austria</td><td>34</td></tr><tr><td>United States</td><td>Nigeria</td><td>18</td></tr><tr><td>United States</td><td>Bonaire, Sint Eustatius, and Saba</td><td>16</td></tr><tr><td>Kiribati</td><td>United States</td><td>17</td></tr><tr><td>Saudi Arabia</td><td>United States</td><td>42</td></tr><tr><td>Czech Republic</td><td>United States</td><td>21</td></tr><tr><td>Belgium</td><td>United States</td><td>408</td></tr><tr><td>United States</td><td>Israel</td><td>122</td></tr><tr><td>United States</td><td>Bahrain</td><td>1</td></tr><tr><td>United States</td><td>Saint Lucia</td><td>121</td></tr><tr><td>Afghanistan</td><td>United States</td><td>11</td></tr><tr><td>United States</td><td>British Virgin Islands</td><td>47</td></tr><tr><td>Curacao</td><td>United States</td><td>20</td></tr><tr><td>Georgia</td><td>United States</td><td>2</td></tr><tr><td>United States</td><td>Guyana</td><td>20</td></tr><tr><td>United States</td><td>Denmark</td><td>107</td></tr><tr><td>Philippines</td><td>United States</td><td>132</td></tr><tr><td>Grenada</td><td>United States</td><td>65</td></tr><tr><td>Cape Verde</td><td>United States</td><td>18</td></tr><tr><td>Ukraine</td><td>United States</td><td>19</td></tr><tr><td>United States</td><td>Papua New Guinea</td><td>1</td></tr><tr><td>United States</td><td>Saudi Arabia</td><td>54</td></tr><tr><td>Russia</td><td>United States</td><td>152</td></tr><tr><td>Guatemala</td><td>United States</td><td>386</td></tr><tr><td>Saint Lucia</td><td>United States</td><td>116</td></tr><tr><td>Paraguay</td><td>United States</td><td>90</td></tr><tr><td>United States</td><td>Curacao</td><td>14</td></tr><tr><td>United States</td><td>Taiwan</td><td>252</td></tr><tr><td>United States</td><td>South Africa</td><td>15</td></tr><tr><td>Turkey</td><td>United States</td><td>75</td></tr><tr><td>United Kingdom</td><td>United States</td><td>1629</td></tr><tr><td>United States</td><td>Greenland</td><td>2</td></tr><tr><td>United States</td><td>Spain</td><td>442</td></tr><tr><td>Cuba</td><td>United States</td><td>243</td></tr><tr><td>United States</td><td>Italy</td><td>433</td></tr><tr><td>United States</td><td>Switzerland</td><td>334</td></tr><tr><td>Dominica</td><td>United States</td><td>28</td></tr><tr><td>United States</td><td>Japan</td><td>1307</td></tr><tr><td>Portugal</td><td>United States</td><td>102</td></tr><tr><td>United States</td><td>Brazil</td><td>578</td></tr><tr><td>Bahrain</td><td>United States</td><td>30</td></tr><tr><td>United States</td><td>Peru</td><td>284</td></tr><tr><td>Vietnam</td><td>United States</td><td>1</td></tr><tr><td>United States</td><td>United Kingdom</td><td>1503</td></tr><tr><td>United States</td><td>Belize</td><td>118</td></tr><tr><td>Belize</td><td>United States</td><td>121</td></tr><tr><td>United States</td><td>Ghana</td><td>28</td></tr><tr><td>United States</td><td>Indonesia</td><td>1</td></tr><tr><td>United States</td><td>Fiji</td><td>51</td></tr><tr><td>United States</td><td>Canada</td><td>8305</td></tr><tr><td>United States</td><td>French Polynesia</td><td>38</td></tr><tr><td>United States</td><td>Antigua and Barbuda</td><td>121</td></tr><tr><td>United States</td><td>Burkina Faso</td><td>1</td></tr><tr><td>Nicaragua</td><td>United States</td><td>178</td></tr><tr><td>United States</td><td>Latvia</td><td>13</td></tr><tr><td>United States</td><td>Dominica</td><td>32</td></tr><tr><td>United States</td><td>Czech Republic</td><td>22</td></tr><tr><td>United States</td><td>Australia</td><td>216</td></tr><tr><td>Austria</td><td>United States</td><td>36</td></tr><tr><td>United States</td><td>Cook Islands</td><td>12</td></tr><tr><td>Jordan</td><td>United States</td><td>50</td></tr><tr><td>Palau</td><td>United States</td><td>31</td></tr><tr><td>Uganda</td><td>United States</td><td>2</td></tr><tr><td>United States</td><td>Cameroon</td><td>1</td></tr><tr><td>South Korea</td><td>United States</td><td>683</td></tr><tr><td>Angola</td><td>United States</td><td>14</td></tr><tr><td>Ghana</td><td>United States</td><td>27</td></tr><tr><td>Guadeloupe</td><td>United States</td><td>40</td></tr><tr><td>France</td><td>United States</td><td>774</td></tr><tr><td>United States</td><td>Kyrgyzstan</td><td>12</td></tr><tr><td>Poland</td><td>United States</td><td>62</td></tr><tr><td>Nigeria</td><td>United States</td><td>16</td></tr><tr><td>United States</td><td>Uruguay</td><td>24</td></tr><tr><td>Greenland</td><td>United States</td><td>2</td></tr><tr><td>Chile</td><td>United States</td><td>166</td></tr><tr><td>United States</td><td>Bermuda</td><td>180</td></tr><tr><td>United States</td><td>Cuba</td><td>235</td></tr><tr><td>United States</td><td>Colombia</td><td>832</td></tr><tr><td>United States</td><td>Qatar</td><td>40</td></tr><tr><td>United States</td><td>Barbados</td><td>119</td></tr><tr><td>Australia</td><td>United States</td><td>290</td></tr><tr><td>United States</td><td>Jordan</td><td>51</td></tr><tr><td>United States</td><td>Cayman Islands</td><td>251</td></tr><tr><td>United States</td><td>Trinidad and Tobago</td><td>200</td></tr><tr><td>United States</td><td>Bolivia</td><td>39</td></tr><tr><td>United States</td><td>Slovakia</td><td>1</td></tr><tr><td>Uruguay</td><td>United States</td><td>54</td></tr><tr><td>Cook Islands</td><td>United States</td><td>13</td></tr><tr><td>United States</td><td>Saint Kitts and Nevis</td><td>127</td></tr><tr><td>Bulgaria</td><td>United States</td><td>1</td></tr><tr><td>United States</td><td>French Guiana</td><td>1</td></tr><tr><td>United States</td><td>Haiti</td><td>226</td></tr><tr><td>United States</td><td>Uganda</td><td>1</td></tr><tr><td>Bonaire, Sint Eustatius, and Saba</td><td>United States</td><td>16</td></tr><tr><td>Greece</td><td>United States</td><td>50</td></tr></tbody></table></div>"
      ]
     },
     "metadata": {
      "application/vnd.databricks.v1+output": {
       "addedWidgets": {},
       "aggData": [],
       "aggError": "",
       "aggOverflow": false,
       "aggSchema": [],
       "aggSeriesLimitReached": false,
       "aggType": "",
       "arguments": {},
       "columnCustomDisplayInfos": {},
       "data": [
        [
         "United States",
         "Romania",
         1
        ],
        [
         "United States",
         "Ireland",
         264
        ],
        [
         "United States",
         "India",
         69
        ],
        [
         "Egypt",
         "United States",
         24
        ],
        [
         "Equatorial Guinea",
         "United States",
         1
        ],
        [
         "United States",
         "Singapore",
         25
        ],
        [
         "United States",
         "Grenada",
         54
        ],
        [
         "Costa Rica",
         "United States",
         477
        ],
        [
         "Senegal",
         "United States",
         29
        ],
        [
         "United States",
         "Marshall Islands",
         44
        ],
        [
         "Guyana",
         "United States",
         17
        ],
        [
         "United States",
         "Sint Maarten",
         53
        ],
        [
         "Malta",
         "United States",
         1
        ],
        [
         "Bolivia",
         "United States",
         46
        ],
        [
         "Anguilla",
         "United States",
         21
        ],
        [
         "Turks and Caicos Islands",
         "United States",
         136
        ],
        [
         "United States",
         "Afghanistan",
         2
        ],
        [
         "Saint Vincent and the Grenadines",
         "United States",
         1
        ],
        [
         "Italy",
         "United States",
         390
        ],
        [
         "United States",
         "Russia",
         156
        ],
        [
         "United States",
         "Federated States of Micronesia",
         48
        ],
        [
         "Pakistan",
         "United States",
         9
        ],
        [
         "United States",
         "Netherlands",
         570
        ],
        [
         "Iceland",
         "United States",
         118
        ],
        [
         "Marshall Islands",
         "United States",
         77
        ],
        [
         "Luxembourg",
         "United States",
         91
        ],
        [
         "Honduras",
         "United States",
         391
        ],
        [
         "The Bahamas",
         "United States",
         903
        ],
        [
         "El Salvador",
         "United States",
         519
        ],
        [
         "United States",
         "Senegal",
         46
        ],
        [
         "Samoa",
         "United States",
         28
        ],
        [
         "United States",
         "Angola",
         18
        ],
        [
         "Kazakhstan",
         "United States",
         3
        ],
        [
         "Switzerland",
         "United States",
         315
        ],
        [
         "United States",
         "Anguilla",
         20
        ],
        [
         "Sint Maarten",
         "United States",
         61
        ],
        [
         "Hong Kong",
         "United States",
         252
        ],
        [
         "Trinidad and Tobago",
         "United States",
         187
        ],
        [
         "Latvia",
         "United States",
         12
        ],
        [
         "United States",
         "Ecuador",
         345
        ],
        [
         "Slovakia",
         "United States",
         1
        ],
        [
         "Suriname",
         "United States",
         12
        ],
        [
         "Mexico",
         "United States",
         6200
        ],
        [
         "United States",
         "Cyprus",
         1
        ],
        [
         "Ecuador",
         "United States",
         272
        ],
        [
         "United States",
         "Bosnia and Herzegovina",
         1
        ],
        [
         "United States",
         "Portugal",
         104
        ],
        [
         "United States",
         "Costa Rica",
         501
        ],
        [
         "United States",
         "Guatemala",
         333
        ],
        [
         "United States",
         "Suriname",
         13
        ],
        [
         "Colombia",
         "United States",
         785
        ],
        [
         "United States",
         "Cape Verde",
         18
        ],
        [
         "United States",
         "Jamaica",
         757
        ],
        [
         "United States",
         "Malaysia",
         3
        ],
        [
         "Norway",
         "United States",
         29
        ],
        [
         "United States",
         "Morocco",
         16
        ],
        [
         "Thailand",
         "United States",
         16
        ],
        [
         "Venezuela",
         "United States",
         377
        ],
        [
         "United States",
         "Palau",
         30
        ],
        [
         "United States",
         "Samoa",
         28
        ],
        [
         "United States",
         "Algeria",
         1
        ],
        [
         "United States",
         "Venezuela",
         341
        ],
        [
         "Panama",
         "United States",
         355
        ],
        [
         "United States",
         "Finland",
         20
        ],
        [
         "United States",
         "Chile",
         176
        ],
        [
         "Morocco",
         "United States",
         16
        ],
        [
         "United States",
         "Greece",
         61
        ],
        [
         "Antigua and Barbuda",
         "United States",
         123
        ],
        [
         "Azerbaijan",
         "United States",
         1
        ],
        [
         "United States",
         "The Bahamas",
         959
        ],
        [
         "New Zealand",
         "United States",
         86
        ],
        [
         "Liberia",
         "United States",
         1
        ],
        [
         "United States",
         "Hong Kong",
         293
        ],
        [
         "Hungary",
         "United States",
         14
        ],
        [
         "United States",
         "China",
         505
        ],
        [
         "United States",
         "Vietnam",
         1
        ],
        [
         "Sweden",
         "United States",
         65
        ],
        [
         "United States",
         "Kuwait",
         25
        ],
        [
         "United States",
         "Dominican Republic",
         1150
        ],
        [
         "United States",
         "Egypt",
         25
        ],
        [
         "Israel",
         "United States",
         117
        ],
        [
         "United States",
         "United States",
         348113
        ],
        [
         "United States",
         "Luxembourg",
         90
        ],
        [
         "Ethiopia",
         "United States",
         12
        ],
        [
         "United States",
         "Poland",
         61
        ],
        [
         "Martinique",
         "United States",
         23
        ],
        [
         "Saint Barthelemy",
         "United States",
         28
        ],
        [
         "United States",
         "Saint Barthelemy",
         29
        ],
        [
         "United States",
         "Turkey",
         87
        ],
        [
         "Barbados",
         "United States",
         130
        ],
        [
         "United States",
         "Estonia",
         1
        ],
        [
         "United States",
         "Azerbaijan",
         1
        ],
        [
         "Germany",
         "United States",
         1392
        ],
        [
         "Kyrgyzstan",
         "United States",
         2
        ],
        [
         "United States",
         "South Korea",
         621
        ],
        [
         "United States",
         "El Salvador",
         464
        ],
        [
         "Ireland",
         "United States",
         231
        ],
        [
         "United States",
         "Hungary",
         15
        ],
        [
         "United States",
         "Serbia",
         1
        ],
        [
         "Malaysia",
         "United States",
         1
        ],
        [
         "United States",
         "Panama",
         363
        ],
        [
         "United States",
         "Ethiopia",
         12
        ],
        [
         "United States",
         "Aruba",
         349
        ],
        [
         "United States",
         "Thailand",
         13
        ],
        [
         "United States",
         "Netherlands Antilles",
         289
        ],
        [
         "United States",
         "Turks and Caicos Islands",
         147
        ],
        [
         "Cyprus",
         "United States",
         2
        ],
        [
         "United States",
         "Pakistan",
         15
        ],
        [
         "United States",
         "Honduras",
         393
        ],
        [
         "Qatar",
         "United States",
         41
        ],
        [
         "Fiji",
         "United States",
         53
        ],
        [
         "Saint Kitts and Nevis",
         "United States",
         113
        ],
        [
         "Taiwan",
         "United States",
         275
        ],
        [
         "Haiti",
         "United States",
         238
        ],
        [
         "Kuwait",
         "United States",
         26
        ],
        [
         "Canada",
         "United States",
         8271
        ],
        [
         "Federated States of Micronesia",
         "United States",
         46
        ],
        [
         "United States",
         "Liberia",
         1
        ],
        [
         "Jamaica",
         "United States",
         733
        ],
        [
         "United States",
         "Malta",
         2
        ],
        [
         "Dominican Republic",
         "United States",
         1109
        ],
        [
         "Japan",
         "United States",
         1383
        ],
        [
         "United States",
         "Saint Vincent and the Grenadines",
         16
        ],
        [
         "United States",
         "Guadeloupe",
         33
        ],
        [
         "Finland",
         "United States",
         24
        ],
        [
         "United States",
         "Ukraine",
         17
        ],
        [
         "United States",
         "France",
         776
        ],
        [
         "United States",
         "Norway",
         36
        ],
        [
         "Aruba",
         "United States",
         359
        ],
        [
         "French Guiana",
         "United States",
         4
        ],
        [
         "United States",
         "Kiribati",
         18
        ],
        [
         "India",
         "United States",
         66
        ],
        [
         "British Virgin Islands",
         "United States",
         49
        ],
        [
         "United States",
         "Germany",
         1406
        ],
        [
         "Brazil",
         "United States",
         995
        ],
        [
         "United States",
         "New Zealand",
         71
        ],
        [
         "French Polynesia",
         "United States",
         38
        ],
        [
         "United Arab Emirates",
         "United States",
         165
        ],
        [
         "Singapore",
         "United States",
         25
        ],
        [
         "United States",
         "Mexico",
         6220
        ],
        [
         "Netherlands",
         "United States",
         586
        ],
        [
         "United States",
         "Sweden",
         73
        ],
        [
         "United States",
         "Gabon",
         1
        ],
        [
         "United States",
         "Martinique",
         20
        ],
        [
         "United States",
         "United Arab Emirates",
         156
        ],
        [
         "United States",
         "Bulgaria",
         2
        ],
        [
         "China",
         "United States",
         448
        ],
        [
         "Denmark",
         "United States",
         98
        ],
        [
         "United States",
         "Philippines",
         116
        ],
        [
         "United States",
         "Nicaragua",
         181
        ],
        [
         "United States",
         "Belgium",
         355
        ],
        [
         "Peru",
         "United States",
         212
        ],
        [
         "Argentina",
         "United States",
         184
        ],
        [
         "Cayman Islands",
         "United States",
         247
        ],
        [
         "South Africa",
         "United States",
         25
        ],
        [
         "United States",
         "Iceland",
         129
        ],
        [
         "United States",
         "Argentina",
         159
        ],
        [
         "Spain",
         "United States",
         422
        ],
        [
         "Netherlands Antilles",
         "United States",
         286
        ],
        [
         "Bermuda",
         "United States",
         183
        ],
        [
         "United States",
         "Austria",
         34
        ],
        [
         "United States",
         "Nigeria",
         18
        ],
        [
         "United States",
         "Bonaire, Sint Eustatius, and Saba",
         16
        ],
        [
         "Kiribati",
         "United States",
         17
        ],
        [
         "Saudi Arabia",
         "United States",
         42
        ],
        [
         "Czech Republic",
         "United States",
         21
        ],
        [
         "Belgium",
         "United States",
         408
        ],
        [
         "United States",
         "Israel",
         122
        ],
        [
         "United States",
         "Bahrain",
         1
        ],
        [
         "United States",
         "Saint Lucia",
         121
        ],
        [
         "Afghanistan",
         "United States",
         11
        ],
        [
         "United States",
         "British Virgin Islands",
         47
        ],
        [
         "Curacao",
         "United States",
         20
        ],
        [
         "Georgia",
         "United States",
         2
        ],
        [
         "United States",
         "Guyana",
         20
        ],
        [
         "United States",
         "Denmark",
         107
        ],
        [
         "Philippines",
         "United States",
         132
        ],
        [
         "Grenada",
         "United States",
         65
        ],
        [
         "Cape Verde",
         "United States",
         18
        ],
        [
         "Ukraine",
         "United States",
         19
        ],
        [
         "United States",
         "Papua New Guinea",
         1
        ],
        [
         "United States",
         "Saudi Arabia",
         54
        ],
        [
         "Russia",
         "United States",
         152
        ],
        [
         "Guatemala",
         "United States",
         386
        ],
        [
         "Saint Lucia",
         "United States",
         116
        ],
        [
         "Paraguay",
         "United States",
         90
        ],
        [
         "United States",
         "Curacao",
         14
        ],
        [
         "United States",
         "Taiwan",
         252
        ],
        [
         "United States",
         "South Africa",
         15
        ],
        [
         "Turkey",
         "United States",
         75
        ],
        [
         "United Kingdom",
         "United States",
         1629
        ],
        [
         "United States",
         "Greenland",
         2
        ],
        [
         "United States",
         "Spain",
         442
        ],
        [
         "Cuba",
         "United States",
         243
        ],
        [
         "United States",
         "Italy",
         433
        ],
        [
         "United States",
         "Switzerland",
         334
        ],
        [
         "Dominica",
         "United States",
         28
        ],
        [
         "United States",
         "Japan",
         1307
        ],
        [
         "Portugal",
         "United States",
         102
        ],
        [
         "United States",
         "Brazil",
         578
        ],
        [
         "Bahrain",
         "United States",
         30
        ],
        [
         "United States",
         "Peru",
         284
        ],
        [
         "Vietnam",
         "United States",
         1
        ],
        [
         "United States",
         "United Kingdom",
         1503
        ],
        [
         "United States",
         "Belize",
         118
        ],
        [
         "Belize",
         "United States",
         121
        ],
        [
         "United States",
         "Ghana",
         28
        ],
        [
         "United States",
         "Indonesia",
         1
        ],
        [
         "United States",
         "Fiji",
         51
        ],
        [
         "United States",
         "Canada",
         8305
        ],
        [
         "United States",
         "French Polynesia",
         38
        ],
        [
         "United States",
         "Antigua and Barbuda",
         121
        ],
        [
         "United States",
         "Burkina Faso",
         1
        ],
        [
         "Nicaragua",
         "United States",
         178
        ],
        [
         "United States",
         "Latvia",
         13
        ],
        [
         "United States",
         "Dominica",
         32
        ],
        [
         "United States",
         "Czech Republic",
         22
        ],
        [
         "United States",
         "Australia",
         216
        ],
        [
         "Austria",
         "United States",
         36
        ],
        [
         "United States",
         "Cook Islands",
         12
        ],
        [
         "Jordan",
         "United States",
         50
        ],
        [
         "Palau",
         "United States",
         31
        ],
        [
         "Uganda",
         "United States",
         2
        ],
        [
         "United States",
         "Cameroon",
         1
        ],
        [
         "South Korea",
         "United States",
         683
        ],
        [
         "Angola",
         "United States",
         14
        ],
        [
         "Ghana",
         "United States",
         27
        ],
        [
         "Guadeloupe",
         "United States",
         40
        ],
        [
         "France",
         "United States",
         774
        ],
        [
         "United States",
         "Kyrgyzstan",
         12
        ],
        [
         "Poland",
         "United States",
         62
        ],
        [
         "Nigeria",
         "United States",
         16
        ],
        [
         "United States",
         "Uruguay",
         24
        ],
        [
         "Greenland",
         "United States",
         2
        ],
        [
         "Chile",
         "United States",
         166
        ],
        [
         "United States",
         "Bermuda",
         180
        ],
        [
         "United States",
         "Cuba",
         235
        ],
        [
         "United States",
         "Colombia",
         832
        ],
        [
         "United States",
         "Qatar",
         40
        ],
        [
         "United States",
         "Barbados",
         119
        ],
        [
         "Australia",
         "United States",
         290
        ],
        [
         "United States",
         "Jordan",
         51
        ],
        [
         "United States",
         "Cayman Islands",
         251
        ],
        [
         "United States",
         "Trinidad and Tobago",
         200
        ],
        [
         "United States",
         "Bolivia",
         39
        ],
        [
         "United States",
         "Slovakia",
         1
        ],
        [
         "Uruguay",
         "United States",
         54
        ],
        [
         "Cook Islands",
         "United States",
         13
        ],
        [
         "United States",
         "Saint Kitts and Nevis",
         127
        ],
        [
         "Bulgaria",
         "United States",
         1
        ],
        [
         "United States",
         "French Guiana",
         1
        ],
        [
         "United States",
         "Haiti",
         226
        ],
        [
         "United States",
         "Uganda",
         1
        ],
        [
         "Bonaire, Sint Eustatius, and Saba",
         "United States",
         16
        ],
        [
         "Greece",
         "United States",
         50
        ]
       ],
       "datasetInfos": [],
       "dbfsResultPath": null,
       "isJsonSchema": true,
       "metadata": {},
       "overflow": false,
       "plotOptions": {
        "customPlotOptions": {},
        "displayType": "table",
        "pivotAggregation": null,
        "pivotColumns": null,
        "xColumns": null,
        "yColumns": null
       },
       "removedWidgets": [],
       "schema": [
        {
         "metadata": "{}",
         "name": "DEST_COUNTRY_NAME",
         "type": "\"string\""
        },
        {
         "metadata": "{}",
         "name": "ORIGIN_COUNTRY_NAME",
         "type": "\"string\""
        },
        {
         "metadata": "{}",
         "name": "count",
         "type": "\"integer\""
        }
       ],
       "type": "table"
      }
     },
     "output_type": "display_data"
    }
   ],
   "source": [
    "df1 = spark.read.format(file_type) \\\n",
    "  .option(\"inferSchema\", \"true\") \\\n",
    "  .option(\"header\", first_row_is_header) \\\n",
    "  .option(\"sep\", delimiter) \\\n",
    "  .load(file_location)\n",
    "\n",
    "display(df1)"
   ]
  },
  {
   "cell_type": "code",
   "execution_count": 0,
   "metadata": {
    "application/vnd.databricks.v1+cell": {
     "cellMetadata": {
      "byteLimit": 2048000,
      "rowLimit": 10000
     },
     "inputWidgets": {},
     "nuid": "cb7f9aa4-a750-44b3-a8f7-44eb9dfb26f8",
     "showTitle": false,
     "title": ""
    }
   },
   "outputs": [
    {
     "output_type": "stream",
     "name": "stdout",
     "output_type": "stream",
     "text": [
      "root\n |-- DEST_COUNTRY_NAME: string (nullable = true)\n |-- ORIGIN_COUNTRY_NAME: string (nullable = true)\n |-- count: integer (nullable = true)\n\n"
     ]
    }
   ],
   "source": [
    "df1.printSchema()"
   ]
  },
  {
   "cell_type": "code",
   "execution_count": 0,
   "metadata": {
    "application/vnd.databricks.v1+cell": {
     "cellMetadata": {
      "byteLimit": 2048000,
      "rowLimit": 10000
     },
     "inputWidgets": {},
     "nuid": "af72d2e4-41de-4cd2-a5b3-fbc13aa3b16b",
     "showTitle": false,
     "title": ""
    }
   },
   "outputs": [],
   "source": [
    "import pyspark"
   ]
  },
  {
   "cell_type": "code",
   "execution_count": 0,
   "metadata": {
    "application/vnd.databricks.v1+cell": {
     "cellMetadata": {
      "byteLimit": 2048000,
      "rowLimit": 10000
     },
     "inputWidgets": {},
     "nuid": "d0b447e6-1aaf-4938-8903-45202270a238",
     "showTitle": false,
     "title": ""
    }
   },
   "outputs": [],
   "source": [
    "from pyspark.sql.types import StructType, StructField, StringType,IntegerType "
   ]
  },
  {
   "cell_type": "code",
   "execution_count": 0,
   "metadata": {
    "application/vnd.databricks.v1+cell": {
     "cellMetadata": {
      "byteLimit": 2048000,
      "rowLimit": 10000
     },
     "inputWidgets": {},
     "nuid": "e5cccac3-12dc-4803-8f50-086b900490ef",
     "showTitle": false,
     "title": ""
    }
   },
   "outputs": [],
   "source": [
    "#manual schema\n",
    "\n",
    "my_schema = StructType([\n",
    "    StructField(\"DEST_COUNTRY_NAME\",StringType(),True),\n",
    "    StructField(\"ORIGIN_COUNTRY_NAME\",StringType(),True),\n",
    "    StructField(\"count\",IntegerType(),True)\n",
    "])"
   ]
  },
  {
   "cell_type": "code",
   "execution_count": 0,
   "metadata": {
    "application/vnd.databricks.v1+cell": {
     "cellMetadata": {
      "byteLimit": 2048000,
      "rowLimit": 10000
     },
     "inputWidgets": {},
     "nuid": "6b635ee4-2306-49ec-b62b-20748e668aac",
     "showTitle": false,
     "title": ""
    }
   },
   "outputs": [
    {
     "output_type": "stream",
     "name": "stdout",
     "output_type": "stream",
     "text": [
      "+-----------------+-------------------+-----+\n|DEST_COUNTRY_NAME|ORIGIN_COUNTRY_NAME|count|\n+-----------------+-------------------+-----+\n|    United States|            Romania|    1|\n|    United States|            Ireland|  264|\n|    United States|              India|   69|\n|            Egypt|      United States|   24|\n|Equatorial Guinea|      United States|    1|\n+-----------------+-------------------+-----+\nonly showing top 5 rows\n\n"
     ]
    }
   ],
   "source": [
    "\n",
    "df1 = spark.read.format(file_type) \\\n",
    "  .option(\"inferSchema\", \"false\") \\\n",
    "  .schema(my_schema)\\\n",
    "  .option(\"header\", \"false\") \\\n",
    "  .option('skipRows',1)\\\n",
    "  .option(\"mode\", \"PERMISSIVE\") \\\n",
    "  .load(file_location)\n",
    "#changed from 'FAILFAST' #coz its giving error to read count column null as integer\n",
    "df1.show(5)"
   ]
  },
  {
   "cell_type": "code",
   "execution_count": 0,
   "metadata": {
    "application/vnd.databricks.v1+cell": {
     "cellMetadata": {
      "byteLimit": 2048000,
      "rowLimit": 10000
     },
     "inputWidgets": {},
     "nuid": "346a5fb2-138f-4838-b931-be18516d2f6b",
     "showTitle": false,
     "title": ""
    }
   },
   "outputs": [
    {
     "output_type": "stream",
     "name": "stdout",
     "output_type": "stream",
     "text": [
      "+---+--------+---+------+------------+--------+\n| id|    name|age|salary|     address| nominee|\n+---+--------+---+------+------------+--------+\n|  1|  Manish| 26| 75000|       bihar|nominee1|\n|  2|  Nikita| 23|100000|uttarpradesh|nominee2|\n|  3|  Pritam| 22|150000|   Bangalore|   India|\n|  4|Prantosh| 17|200000|     Kolkata|   India|\n|  5|  Vikash| 31|300000|        null|nominee5|\n+---+--------+---+------+------------+--------+\n\n"
     ]
    }
   ],
   "source": [
    "# CURRUPTED RECORDS\n",
    "emp_df = spark.read.format(\"csv\")\\\n",
    "    .option(\"header\",\"true\")\\\n",
    "    .option(\"inferschema\",\"true\")\\\n",
    "    .option(\"mode\",\"PERMISSIVE\")\\\n",
    "    .load(\"/FileStore/tables/employee.csv\")\n",
    "\n",
    "emp_df.show()\n",
    "# in permissive it show all records"
   ]
  },
  {
   "cell_type": "code",
   "execution_count": 0,
   "metadata": {
    "application/vnd.databricks.v1+cell": {
     "cellMetadata": {
      "byteLimit": 2048000,
      "rowLimit": 10000
     },
     "inputWidgets": {},
     "nuid": "0cfb96e2-0d61-4c9b-b8a9-8cfab2d3ec28",
     "showTitle": false,
     "title": ""
    }
   },
   "outputs": [
    {
     "output_type": "stream",
     "name": "stdout",
     "output_type": "stream",
     "text": [
      "+---+------+---+------+------------+--------+\n| id|  name|age|salary|     address| nominee|\n+---+------+---+------+------------+--------+\n|  1|Manish| 26| 75000|       bihar|nominee1|\n|  2|Nikita| 23|100000|uttarpradesh|nominee2|\n|  5|Vikash| 31|300000|        null|nominee5|\n+---+------+---+------+------------+--------+\n\n"
     ]
    }
   ],
   "source": [
    "# CURRUPTED RECORDS\n",
    "emp_df = spark.read.format(\"csv\")\\\n",
    "    .option(\"header\",\"true\")\\\n",
    "    .option(\"inferschema\",\"true\")\\\n",
    "    .option(\"mode\",\"DROPMALFORMED\")\\\n",
    "    .load(\"/FileStore/tables/employee.csv\")\n",
    "\n",
    "emp_df.show()"
   ]
  },
  {
   "cell_type": "code",
   "execution_count": 0,
   "metadata": {
    "application/vnd.databricks.v1+cell": {
     "cellMetadata": {
      "byteLimit": 2048000,
      "rowLimit": 10000
     },
     "inputWidgets": {},
     "nuid": "f7d72fdf-6f21-4a1c-96e5-face154b293a",
     "showTitle": false,
     "title": ""
    }
   },
   "outputs": [],
   "source": [
    "# # CURRUPTED RECORDS\n",
    "# emp_df = spark.read.format(\"csv\")\\\n",
    "#     .option(\"header\",\"true\")\\\n",
    "#     .option(\"inferschema\",\"true\")\\\n",
    "#     .option(\"mode\",\"FAILFAST\")\\\n",
    "#     .load(\"/FileStore/tables/employee.csv\")\n",
    "\n",
    "# emp_df.show()\n",
    "# #in failfast shows error"
   ]
  },
  {
   "cell_type": "code",
   "execution_count": 0,
   "metadata": {
    "application/vnd.databricks.v1+cell": {
     "cellMetadata": {
      "byteLimit": 2048000,
      "rowLimit": 10000
     },
     "inputWidgets": {},
     "nuid": "4858db3b-de63-42e1-8ce3-a534ce643a1a",
     "showTitle": false,
     "title": ""
    }
   },
   "outputs": [],
   "source": [
    "# How to print bad records\n",
    "\n",
    "from pyspark.sql.types import StringType, StructField, StructType, IntegerType\n"
   ]
  },
  {
   "cell_type": "code",
   "execution_count": 0,
   "metadata": {
    "application/vnd.databricks.v1+cell": {
     "cellMetadata": {
      "byteLimit": 2048000,
      "rowLimit": 10000
     },
     "inputWidgets": {},
     "nuid": "ed5c06a1-b678-4bc0-9de0-5810e1ef7a31",
     "showTitle": false,
     "title": ""
    }
   },
   "outputs": [],
   "source": [
    "emp_schema = StructType(\n",
    "    [\n",
    "        StructField(\"id\",IntegerType(),True),\n",
    "        StructField(\"name\",StringType(),True),\n",
    "        StructField(\"age\",IntegerType(),True),\n",
    "        StructField(\"salary\",IntegerType(),True),\n",
    "        StructField(\"address\",StringType(),True),\n",
    "        StructField(\"nominee\",StringType(),True),\n",
    "        StructField(\"_currupt_record\",StringType(),True)\n",
    "    ]\n",
    ")"
   ]
  },
  {
   "cell_type": "code",
   "execution_count": 0,
   "metadata": {
    "application/vnd.databricks.v1+cell": {
     "cellMetadata": {
      "byteLimit": 2048000,
      "rowLimit": 10000
     },
     "inputWidgets": {},
     "nuid": "f3f85e2c-9209-42c5-b4b4-ecc65224ceaa",
     "showTitle": false,
     "title": ""
    }
   },
   "outputs": [
    {
     "output_type": "stream",
     "name": "stdout",
     "output_type": "stream",
     "text": [
      "+---+--------+---+------+------------+--------+---------------+\n|id |name    |age|salary|address     |nominee |_currupt_record|\n+---+--------+---+------+------------+--------+---------------+\n|1  |Manish  |26 |75000 |bihar       |nominee1|null           |\n|2  |Nikita  |23 |100000|uttarpradesh|nominee2|null           |\n|3  |Pritam  |22 |150000|Bangalore   |India   |nominee3       |\n|4  |Prantosh|17 |200000|Kolkata     |India   |nominee4       |\n|5  |Vikash  |31 |300000|null        |nominee5|null           |\n+---+--------+---+------+------------+--------+---------------+\n\n"
     ]
    }
   ],
   "source": [
    "emp_df1 = spark.read.format(\"csv\")\\\n",
    "    .option(\"header\",\"true\")\\\n",
    "    .option(\"inferschema\",\"true\")\\\n",
    "    .option(\"mode\",\"PERMISSIVE\")\\\n",
    "    .schema(emp_schema)\\\n",
    "    .load(\"/FileStore/tables/employee.csv\")\n",
    "\n",
    "emp_df1.show(truncate = False)"
   ]
  },
  {
   "cell_type": "code",
   "execution_count": 0,
   "metadata": {
    "application/vnd.databricks.v1+cell": {
     "cellMetadata": {
      "byteLimit": 2048000,
      "rowLimit": 10000
     },
     "inputWidgets": {},
     "nuid": "90cb8ecc-dc2f-4f07-85b9-3501091e3bb2",
     "showTitle": false,
     "title": ""
    }
   },
   "outputs": [
    {
     "output_type": "display_data",
     "data": {
      "text/html": [
       "<style scoped>\n",
       "  .table-result-container {\n",
       "    max-height: 300px;\n",
       "    overflow: auto;\n",
       "  }\n",
       "  table, th, td {\n",
       "    border: 1px solid black;\n",
       "    border-collapse: collapse;\n",
       "  }\n",
       "  th, td {\n",
       "    padding: 5px;\n",
       "  }\n",
       "  th {\n",
       "    text-align: left;\n",
       "  }\n",
       "</style><div class='table-result-container'><table class='table-result'><thead style='background-color: white'><tr><th>path</th><th>name</th><th>size</th><th>modificationTime</th></tr></thead><tbody><tr><td>dbfs:/FileStore/tables/Bad_records/</td><td>Bad_records/</td><td>0</td><td>0</td></tr><tr><td>dbfs:/FileStore/tables/employee.csv/</td><td>employee.csv/</td><td>0</td><td>0</td></tr><tr><td>dbfs:/FileStore/tables/flight_data.csv</td><td>flight_data.csv</td><td>7121</td><td>1696146457000</td></tr></tbody></table></div>"
      ]
     },
     "metadata": {
      "application/vnd.databricks.v1+output": {
       "addedWidgets": {},
       "aggData": [],
       "aggError": "",
       "aggOverflow": false,
       "aggSchema": [],
       "aggSeriesLimitReached": false,
       "aggType": "",
       "arguments": {},
       "columnCustomDisplayInfos": {},
       "data": [
        [
         "dbfs:/FileStore/tables/Bad_records/",
         "Bad_records/",
         0,
         0
        ],
        [
         "dbfs:/FileStore/tables/employee.csv/",
         "employee.csv/",
         0,
         0
        ],
        [
         "dbfs:/FileStore/tables/flight_data.csv",
         "flight_data.csv",
         7121,
         1696146457000
        ]
       ],
       "datasetInfos": [],
       "dbfsResultPath": null,
       "isJsonSchema": true,
       "metadata": {
        "isDbfsCommandResult": false
       },
       "overflow": false,
       "plotOptions": {
        "customPlotOptions": {},
        "displayType": "table",
        "pivotAggregation": null,
        "pivotColumns": null,
        "xColumns": null,
        "yColumns": null
       },
       "removedWidgets": [],
       "schema": [
        {
         "metadata": "{}",
         "name": "path",
         "type": "\"string\""
        },
        {
         "metadata": "{}",
         "name": "name",
         "type": "\"string\""
        },
        {
         "metadata": "{}",
         "name": "size",
         "type": "\"long\""
        },
        {
         "metadata": "{}",
         "name": "modificationTime",
         "type": "\"long\""
        }
       ],
       "type": "table"
      }
     },
     "output_type": "display_data"
    }
   ],
   "source": [
    "%fs\n",
    "ls /FileStore/tables/"
   ]
  },
  {
   "cell_type": "code",
   "execution_count": 0,
   "metadata": {
    "application/vnd.databricks.v1+cell": {
     "cellMetadata": {
      "byteLimit": 2048000,
      "rowLimit": 10000
     },
     "inputWidgets": {},
     "nuid": "6b9cfe6e-3d73-4c31-b6b0-b6c1d909617a",
     "showTitle": false,
     "title": ""
    }
   },
   "outputs": [
    {
     "output_type": "stream",
     "name": "stdout",
     "output_type": "stream",
     "text": [
      "+---+--------+---+------+---------+-------+---------------+\n|id |name    |age|salary|address  |nominee|_currupt_record|\n+---+--------+---+------+---------+-------+---------------+\n|3  |Pritam  |22 |150000|Bangalore|India  |nominee3       |\n|4  |Prantosh|17 |200000|Kolkata  |India  |nominee4       |\n+---+--------+---+------+---------+-------+---------------+\n\n"
     ]
    }
   ],
   "source": [
    "#to create new file of bad records\n",
    "emp_df1 = spark.read.format(\"csv\")\\\n",
    "    .option(\"header\",\"true\")\\\n",
    "    .option(\"inferschema\",\"true\")\\\n",
    "    .schema(emp_schema)\\\n",
    "    .option(\"badRecordsPath\",\"/FileStore/tables/Bad_records\")\\\n",
    "    .load(\"/FileStore/tables/employee.csv\")\n",
    "\n",
    "emp_df1.show(truncate = False)"
   ]
  },
  {
   "cell_type": "code",
   "execution_count": 0,
   "metadata": {
    "application/vnd.databricks.v1+cell": {
     "cellMetadata": {
      "byteLimit": 2048000,
      "rowLimit": 10000
     },
     "inputWidgets": {},
     "nuid": "ef3bbd9a-6caf-4e40-99a9-44e3f495696b",
     "showTitle": false,
     "title": ""
    }
   },
   "outputs": [
    {
     "output_type": "display_data",
     "data": {
      "text/html": [
       "<style scoped>\n",
       "  .table-result-container {\n",
       "    max-height: 300px;\n",
       "    overflow: auto;\n",
       "  }\n",
       "  table, th, td {\n",
       "    border: 1px solid black;\n",
       "    border-collapse: collapse;\n",
       "  }\n",
       "  th, td {\n",
       "    padding: 5px;\n",
       "  }\n",
       "  th {\n",
       "    text-align: left;\n",
       "  }\n",
       "</style><div class='table-result-container'><table class='table-result'><thead style='background-color: white'><tr><th>path</th><th>name</th><th>size</th><th>modificationTime</th></tr></thead><tbody><tr><td>dbfs:/FileStore/tables/Bad_records/20231001T144109/bad_records/part-00000-29fdc237-0ca0-4063-bba4-58f2e5f6f49a</td><td>part-00000-29fdc237-0ca0-4063-bba4-58f2e5f6f49a</td><td>707</td><td>1696171272000</td></tr></tbody></table></div>"
      ]
     },
     "metadata": {
      "application/vnd.databricks.v1+output": {
       "addedWidgets": {},
       "aggData": [],
       "aggError": "",
       "aggOverflow": false,
       "aggSchema": [],
       "aggSeriesLimitReached": false,
       "aggType": "",
       "arguments": {},
       "columnCustomDisplayInfos": {},
       "data": [
        [
         "dbfs:/FileStore/tables/Bad_records/20231001T144109/bad_records/part-00000-29fdc237-0ca0-4063-bba4-58f2e5f6f49a",
         "part-00000-29fdc237-0ca0-4063-bba4-58f2e5f6f49a",
         707,
         1696171272000
        ]
       ],
       "datasetInfos": [],
       "dbfsResultPath": null,
       "isJsonSchema": true,
       "metadata": {
        "isDbfsCommandResult": false
       },
       "overflow": false,
       "plotOptions": {
        "customPlotOptions": {},
        "displayType": "table",
        "pivotAggregation": null,
        "pivotColumns": null,
        "xColumns": null,
        "yColumns": null
       },
       "removedWidgets": [],
       "schema": [
        {
         "metadata": "{}",
         "name": "path",
         "type": "\"string\""
        },
        {
         "metadata": "{}",
         "name": "name",
         "type": "\"string\""
        },
        {
         "metadata": "{}",
         "name": "size",
         "type": "\"long\""
        },
        {
         "metadata": "{}",
         "name": "modificationTime",
         "type": "\"long\""
        }
       ],
       "type": "table"
      }
     },
     "output_type": "display_data"
    }
   ],
   "source": [
    "%fs\n",
    "ls /FileStore/tables/Bad_records/20231001T144109/bad_records/"
   ]
  },
  {
   "cell_type": "code",
   "execution_count": 0,
   "metadata": {
    "application/vnd.databricks.v1+cell": {
     "cellMetadata": {
      "byteLimit": 2048000,
      "rowLimit": 10000
     },
     "inputWidgets": {},
     "nuid": "c71df7cd-70ee-46ea-a109-614ef3bc1efb",
     "showTitle": false,
     "title": ""
    }
   },
   "outputs": [
    {
     "output_type": "stream",
     "name": "stdout",
     "output_type": "stream",
     "text": [
      "+--------------------+--------------------+--------------------+\n|                path|              reason|              record|\n+--------------------+--------------------+--------------------+\n|dbfs:/FileStore/t...|org.apache.spark....|1,Manish,26,75000...|\n|dbfs:/FileStore/t...|org.apache.spark....|2,Nikita,23,10000...|\n|dbfs:/FileStore/t...|org.apache.spark....|5,Vikash,31,30000...|\n+--------------------+--------------------+--------------------+\n\n"
     ]
    }
   ],
   "source": [
    "# to read that new stored record file\n",
    "\n",
    "bd = spark.read.format(\"json\")\\\n",
    "    .load(\"/FileStore/tables/Bad_records/20231001T144109/bad_records/\")\n",
    "\n",
    "bd.show()"
   ]
  },
  {
   "cell_type": "code",
   "execution_count": 0,
   "metadata": {
    "application/vnd.databricks.v1+cell": {
     "cellMetadata": {
      "byteLimit": 2048000,
      "rowLimit": 10000
     },
     "inputWidgets": {},
     "nuid": "c9802e4e-da30-4641-8f8e-112ac5011513",
     "showTitle": false,
     "title": ""
    }
   },
   "outputs": [],
   "source": []
  },
  {
   "cell_type": "code",
   "execution_count": 0,
   "metadata": {
    "application/vnd.databricks.v1+cell": {
     "cellMetadata": {
      "byteLimit": 2048000,
      "rowLimit": 10000
     },
     "inputWidgets": {},
     "nuid": "da7e8942-ba44-4fc5-8b00-db523c53db60",
     "showTitle": true,
     "title": "JSON file read"
    }
   },
   "outputs": [
    {
     "output_type": "stream",
     "name": "stdout",
     "output_type": "stream",
     "text": [
      "+---+--------+------+\n|age|    name|salary|\n+---+--------+------+\n| 20|  Manish| 20000|\n| 25|  Nikita| 21000|\n| 16|  Pritam| 22000|\n| 35|Prantosh| 25000|\n| 67|  Vikash| 40000|\n+---+--------+------+\n\n"
     ]
    }
   ],
   "source": [
    "# line delimited json file\n",
    "spark.read.format(\"json\")\\\n",
    "    .option(\"inferSchema\",\"true\")\\\n",
    "    .option(\"mode\",\"PERMISSIVE\")\\\n",
    "    .load(\"/FileStore/tables/line_delimited_json.json\")\\\n",
    "    .show()"
   ]
  },
  {
   "cell_type": "code",
   "execution_count": 0,
   "metadata": {
    "application/vnd.databricks.v1+cell": {
     "cellMetadata": {
      "byteLimit": 2048000,
      "rowLimit": 10000
     },
     "inputWidgets": {},
     "nuid": "7c4a192c-bda0-49ab-8898-091090733458",
     "showTitle": false,
     "title": ""
    }
   },
   "outputs": [
    {
     "output_type": "stream",
     "name": "stdout",
     "output_type": "stream",
     "text": [
      "+---+------+--------+------+\n|age|gender|    name|salary|\n+---+------+--------+------+\n| 20|  null|  Manish| 20000|\n| 25|  null|  Nikita| 21000|\n| 16|  null|  Pritam| 22000|\n| 35|  null|Prantosh| 25000|\n| 67|     M|  Vikash| 40000|\n+---+------+--------+------+\n\n"
     ]
    }
   ],
   "source": [
    "# line delimited json file with extra field\n",
    "spark.read.format(\"json\")\\\n",
    "    .option(\"inferSchema\",\"true\")\\\n",
    "    .option(\"mode\",\"PERMISSIVE\")\\\n",
    "    .load(\"/FileStore/tables/single_file_json_with_extra_fields.json\")\\\n",
    "    .show()"
   ]
  },
  {
   "cell_type": "code",
   "execution_count": 0,
   "metadata": {
    "application/vnd.databricks.v1+cell": {
     "cellMetadata": {},
     "inputWidgets": {},
     "nuid": "5ebf0c20-277d-4d0b-a97d-41447ac435bd",
     "showTitle": false,
     "title": ""
    }
   },
   "outputs": [],
   "source": []
  },
  {
   "cell_type": "code",
   "execution_count": 0,
   "metadata": {
    "application/vnd.databricks.v1+cell": {
     "cellMetadata": {},
     "inputWidgets": {},
     "nuid": "0422c251-b399-48bc-90e9-bbb949804cea",
     "showTitle": false,
     "title": ""
    }
   },
   "outputs": [],
   "source": []
  },
  {
   "cell_type": "code",
   "execution_count": 0,
   "metadata": {
    "application/vnd.databricks.v1+cell": {
     "cellMetadata": {
      "byteLimit": 2048000,
      "rowLimit": 10000
     },
     "inputWidgets": {},
     "nuid": "3d77dcf4-eea2-4a9d-938f-f100086e9e65",
     "showTitle": false,
     "title": ""
    }
   },
   "outputs": [],
   "source": []
  }
 ],
 "metadata": {
  "application/vnd.databricks.v1+notebook": {
   "dashboards": [],
   "language": "python",
   "notebookMetadata": {
    "mostRecentlyExecutedCommandWithImplicitDF": {
     "commandId": 811806256124667,
     "dataframes": [
      "_sqldf"
     ]
    },
    "pythonIndentUnit": 4
   },
   "notebookName": "D1-Spark",
   "widgets": {}
  }
 },
 "nbformat": 4,
 "nbformat_minor": 0
}
